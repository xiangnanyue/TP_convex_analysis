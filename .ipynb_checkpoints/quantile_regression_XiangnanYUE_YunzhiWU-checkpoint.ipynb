{
 "cells": [
  {
   "cell_type": "markdown",
   "metadata": {},
   "source": [
    "# Computer Lab: Quantile Regression\n",
    "\n",
    "Olivier Fercoq"
   ]
  },
  {
   "cell_type": "markdown",
   "metadata": {
    "collapsed": true
   },
   "source": [
    "# Preparation\n",
    "Please read the file TPquantile_regression_beginning.pdf for instructions on how to launch this notebook"
   ]
  },
  {
   "cell_type": "code",
   "execution_count": 1,
   "metadata": {
    "collapsed": false
   },
   "outputs": [
    {
     "name": "stdout",
     "output_type": "stream",
     "text": [
      "Using matplotlib backend: MacOSX\n",
      "Populating the interactive namespace from numpy and matplotlib\n"
     ]
    }
   ],
   "source": [
    "%pylab"
   ]
  },
  {
   "cell_type": "code",
   "execution_count": 2,
   "metadata": {
    "collapsed": false
   },
   "outputs": [],
   "source": [
    "# import the data from txt file, the dist_data is of type spark rdd"
   ]
  },
  {
   "cell_type": "code",
   "execution_count": 3,
   "metadata": {
    "collapsed": true
   },
   "outputs": [],
   "source": [
    "filename = './data/ethylene_methane.txt'"
   ]
  },
  {
   "cell_type": "code",
   "execution_count": 4,
   "metadata": {
    "collapsed": false
   },
   "outputs": [
    {
     "data": {
      "text/plain": [
       "['Time (seconds), Methane conc (ppm), Ethylene conc (ppm), sensor readings (16 channels) ',\n",
       " '0.00    0.00    0.00    -41.98  2067.64 -37.13  2.28    8.63    -26.62  -8.46   -0.33   3437.73 2728.14 4054.03 4007.89 4478.27 5056.98 3639.09 3128.49',\n",
       " '0.01    0.00    0.00    -46.50  2067.88 -28.56  13.69   -12.35  -25.81  -5.04   -5.04   3432.44 2734.47 4038.62 4019.40 4496.72 5051.81 3636.97 3115.03',\n",
       " '0.02    0.00    0.00    -36.16  2055.81 -10.89  8.63    -2.93   -30.34  -9.27   -2.12   3438.61 2719.97 4030.92 4025.48 4489.54 5057.35 3641.81 3105.24']"
      ]
     },
     "execution_count": 4,
     "metadata": {},
     "output_type": "execute_result"
    }
   ],
   "source": [
    "dist_data = sc.textFile(filename)\n",
    "dist_data.take(4)"
   ]
  },
  {
   "cell_type": "code",
   "execution_count": 5,
   "metadata": {
    "collapsed": false
   },
   "outputs": [
    {
     "data": {
      "text/plain": [
       "pyspark.rdd.RDD"
      ]
     },
     "execution_count": 5,
     "metadata": {},
     "output_type": "execute_result"
    }
   ],
   "source": [
    "type(dist_data)"
   ]
  },
  {
   "cell_type": "code",
   "execution_count": 6,
   "metadata": {
    "collapsed": true
   },
   "outputs": [],
   "source": [
    "# filter to remove the first header line"
   ]
  },
  {
   "cell_type": "code",
   "execution_count": 7,
   "metadata": {
    "collapsed": false
   },
   "outputs": [
    {
     "data": {
      "text/plain": [
       "'0.00    0.00    0.00    -41.98  2067.64 -37.13  2.28    8.63    -26.62  -8.46   -0.33   3437.73 2728.14 4054.03 4007.89 4478.27 5056.98 3639.09 3128.49'"
      ]
     },
     "execution_count": 7,
     "metadata": {},
     "output_type": "execute_result"
    }
   ],
   "source": [
    "dist_data = dist_data.filter(lambda line: line[0:4] != 'Time')  # remove the first line\n",
    "dist_data.first()"
   ]
  },
  {
   "cell_type": "code",
   "execution_count": 8,
   "metadata": {
    "collapsed": true
   },
   "outputs": [],
   "source": [
    "# we removed the first line, take the first data row and turn it to float numbers by map."
   ]
  },
  {
   "cell_type": "code",
   "execution_count": 9,
   "metadata": {
    "collapsed": false
   },
   "outputs": [
    {
     "data": {
      "text/plain": [
       "array([  0.00000000e+00,   0.00000000e+00,   0.00000000e+00,\n",
       "        -4.19800000e+01,   2.06764000e+03,  -3.71300000e+01,\n",
       "         2.28000000e+00,   8.63000000e+00,  -2.66200000e+01,\n",
       "        -8.46000000e+00,  -3.30000000e-01,   3.43773000e+03,\n",
       "         2.72814000e+03,   4.05403000e+03,   4.00789000e+03,\n",
       "         4.47827000e+03,   5.05698000e+03,   3.63909000e+03,\n",
       "         3.12849000e+03])"
      ]
     },
     "execution_count": 9,
     "metadata": {},
     "output_type": "execute_result"
    }
   ],
   "source": [
    "s = dist_data.first()\n",
    "#print(s)\n",
    "a = np.array(list(map(float, s.split())))\n",
    "a"
   ]
  },
  {
   "cell_type": "code",
   "execution_count": 10,
   "metadata": {
    "collapsed": true
   },
   "outputs": [],
   "source": [
    "# map handles the function for each row of rdd, lambda function turned each line to float array"
   ]
  },
  {
   "cell_type": "code",
   "execution_count": 11,
   "metadata": {
    "collapsed": false
   },
   "outputs": [],
   "source": [
    "dist_data = dist_data.map(lambda line: np.array(list(map(float, line.split()))))"
   ]
  },
  {
   "cell_type": "code",
   "execution_count": 12,
   "metadata": {
    "collapsed": false
   },
   "outputs": [
    {
     "data": {
      "text/plain": [
       "array([  0.00000000e+00,   0.00000000e+00,   0.00000000e+00,\n",
       "        -4.19800000e+01,   2.06764000e+03,  -3.71300000e+01,\n",
       "         2.28000000e+00,   8.63000000e+00,  -2.66200000e+01,\n",
       "        -8.46000000e+00,  -3.30000000e-01,   3.43773000e+03,\n",
       "         2.72814000e+03,   4.05403000e+03,   4.00789000e+03,\n",
       "         4.47827000e+03,   5.05698000e+03,   3.63909000e+03,\n",
       "         3.12849000e+03])"
      ]
     },
     "execution_count": 12,
     "metadata": {},
     "output_type": "execute_result"
    }
   ],
   "source": [
    "dist_data.first()"
   ]
  },
  {
   "cell_type": "code",
   "execution_count": 13,
   "metadata": {
    "collapsed": true
   },
   "outputs": [],
   "source": [
    "# We take about half of the data for the training set, row[0] is the index ?"
   ]
  },
  {
   "cell_type": "code",
   "execution_count": 14,
   "metadata": {
    "collapsed": false
   },
   "outputs": [],
   "source": [
    "train_data_full = dist_data.filter(lambda row: row[0] < 42082.60 / 2.)"
   ]
  },
  {
   "cell_type": "code",
   "execution_count": 15,
   "metadata": {
    "collapsed": false
   },
   "outputs": [
    {
     "data": {
      "text/plain": [
       "array([  0.00000000e+00,   0.00000000e+00,   0.00000000e+00,\n",
       "        -4.19800000e+01,   2.06764000e+03,  -3.71300000e+01,\n",
       "         2.28000000e+00,   8.63000000e+00,  -2.66200000e+01,\n",
       "        -8.46000000e+00,  -3.30000000e-01,   3.43773000e+03,\n",
       "         2.72814000e+03,   4.05403000e+03,   4.00789000e+03,\n",
       "         4.47827000e+03,   5.05698000e+03,   3.63909000e+03,\n",
       "         3.12849000e+03])"
      ]
     },
     "execution_count": 15,
     "metadata": {},
     "output_type": "execute_result"
    }
   ],
   "source": [
    "train_data_full.first()"
   ]
  },
  {
   "cell_type": "code",
   "execution_count": 16,
   "metadata": {
    "collapsed": true
   },
   "outputs": [],
   "source": [
    "# In order to make development smoother, we first consider 1/100th of the training data. \n",
    "# This can be changed when the algorithm is operational."
   ]
  },
  {
   "cell_type": "code",
   "execution_count": 17,
   "metadata": {
    "collapsed": false
   },
   "outputs": [
    {
     "data": {
      "text/plain": [
       "PythonRDD[8] at RDD at PythonRDD.scala:48"
      ]
     },
     "execution_count": 17,
     "metadata": {},
     "output_type": "execute_result"
    }
   ],
   "source": [
    "train_data_full.cache()  # Otherwise, all previous filter operations are re-run each time an action is taken.\n",
    "\n",
    "freq = 100\n",
    "#train_data = train_data_full.filter(lambda row: int(row[0]*100) % freq == 0)\n",
    "train_data = train_data_full.filter(lambda row: int(row[0]) % freq == 0)\n",
    "train_data.cache()  # Otherwise, all previous filter operations are re-run each time an action is taken.\n"
   ]
  },
  {
   "cell_type": "code",
   "execution_count": 18,
   "metadata": {
    "collapsed": false
   },
   "outputs": [
    {
     "data": {
      "text/plain": [
       "array([  0.00000000e+00,   0.00000000e+00,   0.00000000e+00,\n",
       "        -4.19800000e+01,   2.06764000e+03,  -3.71300000e+01,\n",
       "         2.28000000e+00,   8.63000000e+00,  -2.66200000e+01,\n",
       "        -8.46000000e+00,  -3.30000000e-01,   3.43773000e+03,\n",
       "         2.72814000e+03,   4.05403000e+03,   4.00789000e+03,\n",
       "         4.47827000e+03,   5.05698000e+03,   3.63909000e+03,\n",
       "         3.12849000e+03])"
      ]
     },
     "execution_count": 18,
     "metadata": {},
     "output_type": "execute_result"
    }
   ],
   "source": [
    "train_data.first()"
   ]
  },
  {
   "cell_type": "code",
   "execution_count": 19,
   "metadata": {
    "collapsed": true
   },
   "outputs": [],
   "source": [
    "# for standardize both train data and train_data_full, yet collect() only the train_data"
   ]
  },
  {
   "cell_type": "code",
   "execution_count": 20,
   "metadata": {
    "collapsed": false
   },
   "outputs": [
    {
     "name": "stdout",
     "output_type": "stream",
     "text": [
      "before centering [  0.00000000e+00   0.00000000e+00   0.00000000e+00  -4.19800000e+01\n",
      "   2.06764000e+03  -3.71300000e+01   2.28000000e+00   8.63000000e+00\n",
      "  -2.66200000e+01  -8.46000000e+00  -3.30000000e-01   3.43773000e+03\n",
      "   2.72814000e+03   4.05403000e+03   4.00789000e+03   4.47827000e+03\n",
      "   5.05698000e+03   3.63909000e+03   3.12849000e+03]\n",
      "nb of columns (19,)\n",
      "nb of observations 21102\n",
      "row_means [  1.04996516e+04   6.44759895e+01   3.86201924e+00   2.43582046e+03\n",
      "   1.76862098e+03   2.77203506e+03   3.05812133e+03   1.93607030e+03\n",
      "   2.47621240e+03   2.68626355e+03   2.98321356e+03   3.46175147e+03\n",
      "   2.76061554e+03   2.29518589e+03   2.04530061e+03   1.76770531e+03\n",
      "   1.90159642e+03   2.29297087e+03   1.85923681e+03]\n",
      "after centering [ -1.04996516e+04  -6.44759895e+01  -3.86201924e+00  -2.47780046e+03\n",
      "   2.99019024e+02  -2.80916506e+03  -3.05584133e+03  -1.92744030e+03\n",
      "  -2.50283240e+03  -2.69472355e+03  -2.98354356e+03  -2.40214743e+01\n",
      "  -3.24755360e+01   1.75884411e+03   1.96258939e+03   2.71056469e+03\n",
      "   3.15538358e+03   1.34611913e+03   1.26925319e+03]\n",
      "row_stds [  6.09131556e+03   7.83511015e+01   5.10778872e+00   2.81314101e+02\n",
      "   7.27181767e+01   1.16340280e+03   1.26901439e+03   1.14370303e+03\n",
      "   1.47540946e+03   1.12176510e+03   1.25562304e+03   2.34757501e+02\n",
      "   1.80352164e+02   9.72826407e+02   8.32084322e+02   1.02533705e+03\n",
      "   1.15040450e+03   9.57370556e+02   7.65584266e+02]\n",
      "after standardizing [-1.72370837 -0.82291108 -0.75610395 -8.80794973  4.11202587 -2.41461089\n",
      " -2.40804308 -1.68526291 -1.69636462 -2.40221731 -2.37614591 -0.10232463\n",
      " -0.18006735  1.80797324  2.35864243  2.64358408  2.74284705  1.40605862\n",
      "  1.65788829]\n",
      "this should be 0 [  6.36646291e-12  -2.26350494e-10  -2.62616595e-11   1.33411504e-10\n",
      "   8.74678108e-10   5.58202373e-11   1.83035809e-11   6.59383659e-12\n",
      "  -6.02540240e-12  -7.95807864e-12   4.17230694e-11   3.35376171e-10\n",
      "  -1.47792889e-11  -1.30739863e-11   3.41060513e-13   2.79669621e-11\n",
      "   1.25055521e-11  -2.48974175e-11   6.98037184e-11]\n",
      "this should be 1 [ 1.  1.  1.  1.  1.  1.  1.  1.  1.  1.  1.  1.  1.  1.  1.  1.  1.  1.\n",
      "  1.]\n",
      "before centering [  0.00000000e+00   0.00000000e+00   0.00000000e+00  -4.19800000e+01\n",
      "   2.06764000e+03  -3.71300000e+01   2.28000000e+00   8.63000000e+00\n",
      "  -2.66200000e+01  -8.46000000e+00  -3.30000000e-01   3.43773000e+03\n",
      "   2.72814000e+03   4.05403000e+03   4.00789000e+03   4.47827000e+03\n",
      "   5.05698000e+03   3.63909000e+03   3.12849000e+03]\n",
      "nb of columns (19,)\n",
      "nb of observations 2103710\n",
      "row_means [  1.05202097e+04   6.58268680e+01   4.00256815e+00   2.44494716e+03\n",
      "   1.77130464e+03   2.76510015e+03   3.05301516e+03   1.95108640e+03\n",
      "   2.49727964e+03   2.68486121e+03   2.98526551e+03   3.46079147e+03\n",
      "   2.76010957e+03   2.26482100e+03   2.02310043e+03   1.76247624e+03\n",
      "   1.89257771e+03   2.27053023e+03   1.84282247e+03]\n",
      "after centering [ -1.05202097e+04  -6.58268680e+01  -4.00256815e+00  -2.48692716e+03\n",
      "   2.96335356e+02  -2.80223015e+03  -3.05073516e+03  -1.94245640e+03\n",
      "  -2.52389964e+03  -2.69332121e+03  -2.98559551e+03  -2.30614696e+01\n",
      "  -3.19695712e+01   1.78920900e+03   1.98478957e+03   2.71579376e+03\n",
      "   3.16440229e+03   1.36855977e+03   1.28566753e+03]\n",
      "row_stds [  6.07438616e+03   7.95484604e+01   5.24099946e+00   2.31798373e+02\n",
      "   1.36465887e+02   1.11183843e+03   1.21345913e+03   1.10818080e+03\n",
      "   1.42981116e+03   1.06158547e+03   1.18945978e+03   2.37398349e+02\n",
      "   1.82950354e+02   9.36974896e+02   7.92007347e+02   9.86507646e+02\n",
      "   1.10449810e+03   9.16722868e+02   7.29246389e+02]\n",
      "after standardizing [ -1.73189676  -0.8275065   -0.76370322 -10.72883786   2.17149767\n",
      "  -2.52035734  -2.51408151  -1.75283348  -1.76519789  -2.5370743\n",
      "  -2.51004325  -0.0971425   -0.17474452   1.90955917   2.50602419\n",
      "   2.75293736   2.86501378   1.49288277   1.76300843]\n",
      "this should be 0 [  1.41444616e-08  -1.02130434e-06   3.36374796e-07  -8.91814125e-07\n",
      "  -1.12510497e-06   1.42914359e-07   1.15091098e-07   2.42464012e-07\n",
      "   7.88277248e-08   2.44879629e-07   2.39844667e-07   8.07762262e-07\n",
      "   1.95246139e-06   2.04890966e-08   1.91954314e-07   1.27736712e-07\n",
      "   1.57495379e-07  -4.32191882e-09   2.09096470e-07]\n",
      "this should be 1 [ 1.  1.  1.  1.  1.  1.  1.  1.  1.  1.  1.  1.  1.  1.  1.  1.  1.  1.\n",
      "  1.]\n"
     ]
    }
   ],
   "source": [
    "def standardize(train_data):\n",
    "    print('before centering', train_data.first())\n",
    "    row_sums = train_data.reduce(lambda a, b: a + b)\n",
    "    print('nb of columns', row_sums.shape)\n",
    "    n_train = train_data.count()\n",
    "    print('nb of observations', n_train)\n",
    "\n",
    "    row_means = row_sums / n_train\n",
    "    print('row_means', row_means)\n",
    "\n",
    "    train_data = train_data.map(lambda r: r - row_means)\n",
    "    print('after centering', train_data.first())\n",
    "\n",
    "    row_stds = np.sqrt(train_data.map(lambda r: r ** 2).reduce(lambda a, b: a + b) / n_train)\n",
    "    print('row_stds', row_stds)\n",
    "    train_data = train_data.map(lambda r: r / row_stds)\n",
    "    print('after standardizing', train_data.first())\n",
    "\n",
    "    row_sums_should_be_0 = train_data.reduce(lambda a, b: a + b)\n",
    "    print('this should be 0', row_sums_should_be_0)\n",
    "    row_stds_should_be_1 = np.sqrt(train_data.map(lambda r: r ** 2).reduce(lambda a, b: a + b) / n_train)\n",
    "    print('this should be 1', row_stds_should_be_1)\n",
    "\n",
    "    return train_data\n",
    "\n",
    "train_data = standardize(train_data)\n",
    "train_data_NotDistributed = np.array(train_data.collect())  # collect() should be used only on small RDDs\n",
    "\n",
    "train_data_full = standardize(train_data_full)"
   ]
  },
  {
   "cell_type": "code",
   "execution_count": 21,
   "metadata": {
    "collapsed": false
   },
   "outputs": [
    {
     "data": {
      "text/plain": [
       "((21102, 19), PythonRDD[18] at collect at <ipython-input-20-4759d30af17f>:27)"
      ]
     },
     "execution_count": 21,
     "metadata": {},
     "output_type": "execute_result"
    }
   ],
   "source": [
    "train_data_NotDistributed.shape, train_data"
   ]
  },
  {
   "cell_type": "markdown",
   "metadata": {},
   "source": [
    "# Distributed least squares"
   ]
  },
  {
   "cell_type": "markdown",
   "metadata": {},
   "source": [
    "### 3.2"
   ]
  },
  {
   "cell_type": "code",
   "execution_count": 22,
   "metadata": {
    "collapsed": false
   },
   "outputs": [
    {
     "data": {
      "text/plain": [
       "((21102, 16), (21102, 2))"
      ]
     },
     "execution_count": 22,
     "metadata": {},
     "output_type": "execute_result"
    }
   ],
   "source": [
    "X = train_data_NotDistributed[:, 3:]\n",
    "y = train_data_NotDistributed[:, 1:3]\n",
    "X.shape, y.shape"
   ]
  },
  {
   "cell_type": "code",
   "execution_count": 23,
   "metadata": {
    "collapsed": false
   },
   "outputs": [],
   "source": [
    "# get closed-form solution\n",
    "W = np.linalg.solve(a=X.T.dot(X), b=X.T.dot(y))"
   ]
  },
  {
   "cell_type": "code",
   "execution_count": 24,
   "metadata": {
    "collapsed": false
   },
   "outputs": [
    {
     "data": {
      "text/plain": [
       "((16, 2), array([[  0.20112332,   0.40003616],\n",
       "        [  0.07544213,   0.07243659],\n",
       "        [  6.80878733,  -1.50964233],\n",
       "        [ -3.69864834,   6.17855383],\n",
       "        [-10.68830581,  -1.12443226],\n",
       "        [  3.74523502,  -1.53292001],\n",
       "        [  0.60163843,  -6.83221707],\n",
       "        [  2.867276  ,   3.19708374],\n",
       "        [ -1.31779565,   0.45799037],\n",
       "        [  1.07483576,  -0.87620455],\n",
       "        [  1.64402582,  -1.17964847],\n",
       "        [ -7.05906705,  -7.37769584],\n",
       "        [  2.30394624,   1.89215007],\n",
       "        [  5.1616917 ,   0.78613241],\n",
       "        [  2.57448691,   5.48816121],\n",
       "        [ -3.3299369 ,   2.8900424 ]]))"
      ]
     },
     "execution_count": 24,
     "metadata": {},
     "output_type": "execute_result"
    }
   ],
   "source": [
    "W.shape, W"
   ]
  },
  {
   "cell_type": "markdown",
   "metadata": {
    "collapsed": true
   },
   "source": [
    "### 3.3"
   ]
  },
  {
   "cell_type": "markdown",
   "metadata": {},
   "source": [
    "### on the reduced set"
   ]
  },
  {
   "cell_type": "code",
   "execution_count": 25,
   "metadata": {
    "collapsed": false
   },
   "outputs": [],
   "source": [
    "parallel_train_X = sc.parallelize(train_data_NotDistributed) # or use directly the train_data"
   ]
  },
  {
   "cell_type": "code",
   "execution_count": 26,
   "metadata": {
    "collapsed": false
   },
   "outputs": [],
   "source": [
    "XX = parallel_train_X.map(lambda a: np.outer(a[3:], a[3:])).reduce(lambda a,b: a+b)\n",
    "yy = parallel_train_X.map(lambda a: np.outer(a[3:], a[1:3])).reduce(lambda a,b: a+b)"
   ]
  },
  {
   "cell_type": "code",
   "execution_count": 27,
   "metadata": {
    "collapsed": false
   },
   "outputs": [
    {
     "data": {
      "text/plain": [
       "((16, 16), (16, 2))"
      ]
     },
     "execution_count": 27,
     "metadata": {},
     "output_type": "execute_result"
    }
   ],
   "source": [
    "XX.shape, yy.shape"
   ]
  },
  {
   "cell_type": "code",
   "execution_count": 28,
   "metadata": {
    "collapsed": true
   },
   "outputs": [],
   "source": [
    "W = np.linalg.inv(XX).dot(yy)"
   ]
  },
  {
   "cell_type": "code",
   "execution_count": 29,
   "metadata": {
    "collapsed": false
   },
   "outputs": [
    {
     "data": {
      "text/plain": [
       "array([[  0.20112332,   0.40003616],\n",
       "       [  0.07544213,   0.07243659],\n",
       "       [  6.80878733,  -1.50964233],\n",
       "       [ -3.69864834,   6.17855383],\n",
       "       [-10.68830581,  -1.12443226],\n",
       "       [  3.74523502,  -1.53292001],\n",
       "       [  0.60163843,  -6.83221707],\n",
       "       [  2.867276  ,   3.19708374],\n",
       "       [ -1.31779565,   0.45799037],\n",
       "       [  1.07483576,  -0.87620455],\n",
       "       [  1.64402582,  -1.17964847],\n",
       "       [ -7.05906705,  -7.37769584],\n",
       "       [  2.30394624,   1.89215007],\n",
       "       [  5.1616917 ,   0.78613241],\n",
       "       [  2.57448691,   5.48816121],\n",
       "       [ -3.3299369 ,   2.8900424 ]])"
      ]
     },
     "execution_count": 29,
     "metadata": {},
     "output_type": "execute_result"
    }
   ],
   "source": [
    "W"
   ]
  },
  {
   "cell_type": "code",
   "execution_count": 30,
   "metadata": {
    "collapsed": false
   },
   "outputs": [
    {
     "data": {
      "text/plain": [
       "array([[  0.20112332,   0.40003616],\n",
       "       [  0.07544213,   0.07243659],\n",
       "       [  6.80878733,  -1.50964233],\n",
       "       [ -3.69864834,   6.17855383],\n",
       "       [-10.68830581,  -1.12443226],\n",
       "       [  3.74523502,  -1.53292001],\n",
       "       [  0.60163843,  -6.83221707],\n",
       "       [  2.867276  ,   3.19708374],\n",
       "       [ -1.31779565,   0.45799037],\n",
       "       [  1.07483576,  -0.87620455],\n",
       "       [  1.64402582,  -1.17964847],\n",
       "       [ -7.05906705,  -7.37769584],\n",
       "       [  2.30394624,   1.89215007],\n",
       "       [  5.1616917 ,   0.78613241],\n",
       "       [  2.57448691,   5.48816121],\n",
       "       [ -3.3299369 ,   2.8900424 ]])"
      ]
     },
     "execution_count": 30,
     "metadata": {},
     "output_type": "execute_result"
    }
   ],
   "source": [
    "def solve_linear_parallel(rrd_train):\n",
    "    XX = rrd_train.map(lambda a: np.outer(a[3:], a[3:])).reduce(lambda a,b: a+b)\n",
    "    yy = rrd_train.map(lambda a: np.outer(a[3:], a[1:3])).reduce(lambda a,b: a+b)\n",
    "    W = np.linalg.inv(XX).dot(yy)\n",
    "    return W\n",
    "\n",
    "solve_linear_parallel(train_data)"
   ]
  },
  {
   "cell_type": "markdown",
   "metadata": {},
   "source": [
    "### on the full set"
   ]
  },
  {
   "cell_type": "code",
   "execution_count": 31,
   "metadata": {
    "collapsed": false
   },
   "outputs": [
    {
     "data": {
      "text/plain": [
       "array([[ 0.09682988,  0.0485206 ],\n",
       "       [ 0.01240669, -0.01502376],\n",
       "       [-0.14024083,  5.88192701],\n",
       "       [ 0.34187629, -3.28065969],\n",
       "       [-6.83667423,  2.31979054],\n",
       "       [ 4.59287714, -1.15516419],\n",
       "       [ 0.99581238, -5.54778859],\n",
       "       [ 1.39054027,  1.35446226],\n",
       "       [-0.867363  ,  0.33945828],\n",
       "       [ 0.69831324, -0.46888552],\n",
       "       [ 1.81161887, -2.64645593],\n",
       "       [-3.18783061, -1.90203955],\n",
       "       [ 0.22809633, -0.40600687],\n",
       "       [ 2.78471187, -0.491782  ],\n",
       "       [ 0.08956648,  4.89059757],\n",
       "       [-1.11281948,  1.72824999]])"
      ]
     },
     "execution_count": 31,
     "metadata": {},
     "output_type": "execute_result"
    }
   ],
   "source": [
    "solve_linear_parallel(train_data_full)"
   ]
  },
  {
   "cell_type": "code",
   "execution_count": 115,
   "metadata": {
    "collapsed": false
   },
   "outputs": [
    {
     "data": {
      "text/plain": [
       "array([2, 4, 2])"
      ]
     },
     "execution_count": 115,
     "metadata": {},
     "output_type": "execute_result"
    }
   ],
   "source": [
    "np.maximum([2,-3,1], [2,4,2])"
   ]
  },
  {
   "cell_type": "markdown",
   "metadata": {},
   "source": [
    "### Question 4.5"
   ]
  },
  {
   "cell_type": "code",
   "execution_count": 231,
   "metadata": {
    "collapsed": false
   },
   "outputs": [
    {
     "name": "stdout",
     "output_type": "stream",
     "text": [
      "[ 2.25  3.25  5.5 ]\n",
      "[[ 2.25  3.25  5.5 ]\n",
      " [ 2.5   2.5   5.5 ]]\n",
      "[[ 1.8    3.6    5.4  ]\n",
      " [ 2.025  2.925  4.95 ]]\n"
     ]
    }
   ],
   "source": [
    "\n",
    "# this calculate the proximal of pinball funciton \n",
    "# L_tao(y - v), where L_tao(v) = max(−(1 − τ)v, τv)\n",
    "def func_pinball(v, tao=0.9):\n",
    "    return np.maximum(-(1-tao)*v, tao*v)\n",
    "\n",
    "def prox_pinball(v, y, tao=0.9, s=1):\n",
    "    \n",
    "    length = len(v)\n",
    "    w = np.zeros(length)\n",
    "    \n",
    "    for i in range(length):\n",
    "        if v[i] > y[i] + (1 - tao):\n",
    "            w[i] = v[i] + (tao - 1) * s\n",
    "        elif v[i] < y[i] - tao:\n",
    "            w[i] = v[i] + tao * s\n",
    "        else:\n",
    "            w[i] = y[i]\n",
    "    return w\n",
    "\n",
    "def func_pinball_multi_labels(v, tao=0.9):\n",
    "    if len(v.shape) == 1:\n",
    "        return func_pinball(v, tao)\n",
    "    return np.c_[[func_pinball(v[:,i], tao) for i in range(v.shape[1])]].T\n",
    "\n",
    "\n",
    "def prox_pinball_multi_labels(v, y, tao=0.9, s=1):\n",
    "    if len(v.shape) == 1:\n",
    "        return prox_pinball(v, y, tao, s)\n",
    "    return np.c_[[prox_pinball(v[:,i], y[:,i], tao, s) for i in range(v.shape[1])]].T\n",
    "    \n",
    "# test\n",
    "v = np.array([2, 4, 6])\n",
    "y = np.array([3.9, 1, 5.5])\n",
    "tao = 0.25\n",
    "print(prox_pinball(v, y, tao))\n",
    "\n",
    "vm = array([[ 2,  4,  6 ], [ 2.25,  3.25,  5.5 ]])\n",
    "ym = np.array([[3.9, 1, 5.5], [3.9, 1, 5.5]])\n",
    "print(prox_pinball_multi_labels(vm, ym, tao))\n",
    "print(func_pinball_multi_labels(vm))"
   ]
  },
  {
   "cell_type": "code",
   "execution_count": 216,
   "metadata": {
    "collapsed": false
   },
   "outputs": [
    {
     "data": {
      "text/plain": [
       "9.5786220303340084"
      ]
     },
     "execution_count": 216,
     "metadata": {},
     "output_type": "execute_result"
    }
   ],
   "source": [
    "np.linalg.norm(array([[ 2.25,  3.25,  5.5 ], [ 2.25,  3.25,  5.5 ]]))"
   ]
  },
  {
   "cell_type": "code",
   "execution_count": 208,
   "metadata": {
    "collapsed": false
   },
   "outputs": [
    {
     "data": {
      "text/plain": [
       "(21102, 2)"
      ]
     },
     "execution_count": 208,
     "metadata": {},
     "output_type": "execute_result"
    }
   ],
   "source": [
    "y = train_data_NotDistributed[:, 1:3]\n",
    "y.shape"
   ]
  },
  {
   "cell_type": "markdown",
   "metadata": {},
   "source": [
    "### not distributed admm"
   ]
  },
  {
   "cell_type": "code",
   "execution_count": 232,
   "metadata": {
    "collapsed": false
   },
   "outputs": [],
   "source": [
    "\n",
    "def derivative_f(alpha, d):\n",
    "    A = np.diag([alpha]*(d-1) + [0])\n",
    "    return A\n",
    "\n",
    "def func_f(alpha, x):\n",
    "    return alpha/2 * np.sum(x**2)\n",
    "    \n",
    "def admm(M, y, f, df, g, prox_g, z0, p0, alpha=1, gamma=1, tao=0.9, run_max=100, verbose=False, call_back=None, **params):\n",
    "    d = M.shape[1]\n",
    "    if len(y.shape) == 1:\n",
    "        x = np.zeros(d)\n",
    "    else:\n",
    "        x = np.zeros((d, y.shape[1]))\n",
    "    z = z0.copy()\n",
    "    p = p0.copy()\n",
    "    \n",
    "    for i in range(run_max):\n",
    "\n",
    "        x_old = x.copy()\n",
    "        p_old = p.copy()\n",
    "        \n",
    "        # step 1 calculate the xk+1\n",
    "        A1 = 1/gamma*M.T.dot(M) + df(alpha, d)\n",
    "        b1 = 1/gamma*M.T.dot(z) - M.T.dot(p)\n",
    "        x = np.linalg.inv(A1).dot(b1)\n",
    "        # step 2 calculate the zk+1\n",
    "        v = gamma*(p + 1/gamma*M.dot(x))\n",
    "        z = prox_g(v, y, tao, gamma) # s = gamma ?\n",
    "        # step 3 calculate the p\n",
    "        #print(z.shape)\n",
    "        p = p + 1/gamma*(M.dot(x) - z)\n",
    "\n",
    "        obj_func = f(alpha, x) + np.sum(g(y - M.dot(x), tao))\n",
    "        # a call back function for user \n",
    "        call_values = {'x':x.copy(), 'z':z.copy(), 'p': p.copy(), 'obj':obj_func}\n",
    "        call_back(call_values, **params)\n",
    "        \n",
    "        # calculate the distance to stop admm\n",
    "        dis = np.linalg.norm(x-x_old)+np.linalg.norm(p - p_old)\n",
    "        if verbose:\n",
    "            print(\"run time =\", i, \"the value of object function is,\", obj_func, \"distance is\", dis)\n",
    "            \n",
    "        if dis < 1e-3:\n",
    "            print(\"executed\", i, \" times x=\", x)\n",
    "            break\n",
    "    "
   ]
  },
  {
   "cell_type": "code",
   "execution_count": 233,
   "metadata": {
    "collapsed": false
   },
   "outputs": [
    {
     "name": "stdout",
     "output_type": "stream",
     "text": [
      "run time = 0 the value of object function is, 18341.830288 distance is 79.9531054402\n",
      "run time = 1 the value of object function is, 6460.42414844 distance is 50.1878438133\n",
      "run time = 2 the value of object function is, 5744.93610665 distance is 22.0567525876\n",
      "run time = 3 the value of object function is, 5712.0908727 distance is 14.5909118882\n",
      "run time = 4 the value of object function is, 5750.07599725 distance is 9.67135791812\n",
      "run time = 5 the value of object function is, 5794.56054046 distance is 7.73229873471\n",
      "run time = 6 the value of object function is, 5831.08393092 distance is 6.14063126519\n",
      "run time = 7 the value of object function is, 5863.83562711 distance is 4.91457889737\n",
      "run time = 8 the value of object function is, 5893.42472869 distance is 3.68827422622\n",
      "run time = 9 the value of object function is, 5923.38397696 distance is 4.06072528805\n",
      "run time = 10 the value of object function is, 5945.30338967 distance is 2.73697256093\n",
      "run time = 11 the value of object function is, 5967.99007477 distance is 3.14299725427\n",
      "run time = 12 the value of object function is, 5982.8139976 distance is 1.85188458787\n",
      "run time = 13 the value of object function is, 5999.74559248 distance is 2.48748869585\n",
      "run time = 14 the value of object function is, 6010.34212417 distance is 2.0440353637\n",
      "run time = 15 the value of object function is, 6020.98976881 distance is 1.48611524188\n",
      "run time = 16 the value of object function is, 6030.9195546 distance is 2.22699127572\n",
      "run time = 17 the value of object function is, 6038.50016427 distance is 0.477457240093\n",
      "run time = 18 the value of object function is, 6048.04203148 distance is 1.23248691955\n",
      "run time = 19 the value of object function is, 6054.98334718 distance is 1.91052170252\n",
      "run time = 20 the value of object function is, 6060.46027134 distance is 1.18559060453\n",
      "run time = 21 the value of object function is, 6067.90598166 distance is 1.39137167712\n",
      "run time = 22 the value of object function is, 6072.97517526 distance is 1.55262864861\n",
      "run time = 23 the value of object function is, 6077.45635814 distance is 1.12756703984\n",
      "run time = 24 the value of object function is, 6082.18611465 distance is 1.54210618597\n",
      "run time = 25 the value of object function is, 6086.4006188 distance is 1.3366023487\n",
      "run time = 26 the value of object function is, 6090.51662932 distance is 0.827259404014\n",
      "run time = 27 the value of object function is, 6095.58457779 distance is 1.53143174258\n",
      "run time = 28 the value of object function is, 6098.03473998 distance is 1.32308658756\n",
      "run time = 29 the value of object function is, 6100.78265747 distance is 0.806943334377\n",
      "run time = 30 the value of object function is, 6104.74678455 distance is 1.0884356135\n",
      "run time = 31 the value of object function is, 6108.32695047 distance is 0.795837015076\n",
      "run time = 32 the value of object function is, 6111.52309505 distance is 1.30526156745\n",
      "run time = 33 the value of object function is, 6113.34942409 distance is 0.249684042218\n",
      "run time = 34 the value of object function is, 6116.91937033 distance is 1.30160115522\n",
      "run time = 35 the value of object function is, 6119.04162011 distance is 0.793665893493\n",
      "run time = 36 the value of object function is, 6121.74363029 distance is 1.09281934539\n",
      "run time = 37 the value of object function is, 6123.65221918 distance is 0.773265351994\n",
      "run time = 38 the value of object function is, 6126.05674188 distance is 0.772525060883\n",
      "run time = 39 the value of object function is, 6128.93357703 distance is 0.81176348408\n",
      "run time = 40 the value of object function is, 6131.07955519 distance is 0.203606805963\n",
      "run time = 41 the value of object function is, 6133.51545386 distance is 0.176779884902\n",
      "run time = 42 the value of object function is, 6135.76890904 distance is 1.05047304429\n",
      "run time = 43 the value of object function is, 6137.19559902 distance is 1.0489014144\n",
      "run time = 44 the value of object function is, 6138.90016786 distance is 0.205479728014\n",
      "run time = 45 the value of object function is, 6141.11344447 distance is 0.757299363781\n",
      "run time = 46 the value of object function is, 6142.47200932 distance is 1.04713873757\n",
      "run time = 47 the value of object function is, 6143.43897191 distance is 0.216841281602\n",
      "run time = 48 the value of object function is, 6145.48377259 distance is 0.198033702015\n",
      "run time = 49 the value of object function is, 6147.38105462 distance is 0.111250222296\n",
      "run time = 50 the value of object function is, 6149.07395193 distance is 1.27475376719\n",
      "run time = 51 the value of object function is, 6149.22954367 distance is 0.129046001936\n",
      "run time = 52 the value of object function is, 6151.00420802 distance is 0.171131148219\n",
      "run time = 53 the value of object function is, 6152.73017842 distance is 1.04467450164\n",
      "run time = 54 the value of object function is, 6153.57438441 distance is 1.04565662564\n",
      "run time = 55 the value of object function is, 6154.90600383 distance is 0.765998829278\n",
      "run time = 56 the value of object function is, 6156.13985247 distance is 0.106847052373\n",
      "run time = 57 the value of object function is, 6157.63502952 distance is 0.103912021053\n",
      "run time = 58 the value of object function is, 6159.00938437 distance is 0.0311472248272\n",
      "run time = 59 the value of object function is, 6160.33608615 distance is 0.0305739674855\n",
      "run time = 60 the value of object function is, 6161.61938885 distance is 0.0301456889501\n",
      "run time = 61 the value of object function is, 6162.86562764 distance is 0.0989989286814\n",
      "run time = 62 the value of object function is, 6164.12374637 distance is 0.0293585171448\n",
      "run time = 63 the value of object function is, 6165.29881231 distance is 0.130657354474\n",
      "run time = 64 the value of object function is, 6166.47637683 distance is 0.74007110164\n",
      "run time = 65 the value of object function is, 6167.38370315 distance is 0.744131876064\n",
      "run time = 66 the value of object function is, 6168.08587731 distance is 0.101498675727\n",
      "run time = 67 the value of object function is, 6169.35147125 distance is 0.737380698852\n",
      "run time = 68 the value of object function is, 6170.13359084 distance is 0.099014132399\n",
      "run time = 69 the value of object function is, 6171.26458311 distance is 0.734962139871\n",
      "run time = 70 the value of object function is, 6171.99655174 distance is 0.0360211318593\n",
      "run time = 71 the value of object function is, 6173.01022887 distance is 1.03961280321\n",
      "run time = 72 the value of object function is, 6172.94690958 distance is 0.105712850322\n",
      "run time = 73 the value of object function is, 6174.09283791 distance is 0.132028835797\n",
      "run time = 74 the value of object function is, 6175.1792775 distance is 0.0266011089749\n",
      "run time = 75 the value of object function is, 6176.23845343 distance is 0.0931535226937\n",
      "run time = 76 the value of object function is, 6177.2746029 distance is 0.024062391262\n",
      "run time = 77 the value of object function is, 6178.28606148 distance is 0.0238163307077\n",
      "run time = 78 the value of object function is, 6179.28213052 distance is 0.0235490694381\n",
      "run time = 79 the value of object function is, 6180.26257839 distance is 0.127043528321\n",
      "run time = 80 the value of object function is, 6181.25676071 distance is 0.0936754960458\n",
      "run time = 81 the value of object function is, 6182.17891804 distance is 0.020924385159\n",
      "run time = 82 the value of object function is, 6183.12372614 distance is 0.124279354973\n",
      "run time = 83 the value of object function is, 6184.01646064 distance is 0.0186763838735\n",
      "run time = 84 the value of object function is, 6184.94206514 distance is 0.0184179815099\n",
      "run time = 85 the value of object function is, 6185.84484705 distance is 0.0921996148325\n",
      "run time = 86 the value of object function is, 6186.70878356 distance is 0.0174612959842\n",
      "run time = 87 the value of object function is, 6187.57481415 distance is 0.0172965813214\n",
      "run time = 88 the value of object function is, 6188.41980246 distance is 0.0171852679733\n",
      "run time = 89 the value of object function is, 6189.24129964 distance is 0.730436210449\n",
      "run time = 90 the value of object function is, 6189.61713178 distance is 0.0298222561203\n",
      "run time = 91 the value of object function is, 6190.42624503 distance is 0.0238275894308\n",
      "run time = 92 the value of object function is, 6191.2248384 distance is 0.0911137695402\n",
      "run time = 93 the value of object function is, 6192.02576666 distance is 0.0174730563751\n",
      "run time = 94 the value of object function is, 6192.76922676 distance is 0.0884273289407\n",
      "run time = 95 the value of object function is, 6193.53444539 distance is 0.090379194408\n",
      "run time = 96 the value of object function is, 6194.21599208 distance is 0.0166831626871\n",
      "run time = 97 the value of object function is, 6194.89176575 distance is 0.0884703226201\n",
      "run time = 98 the value of object function is, 6195.58220447 distance is 0.0159341519047\n",
      "run time = 99 the value of object function is, 6196.2231731 distance is 0.0904602591395\n"
     ]
    }
   ],
   "source": [
    "# train_data_NotDistributed is the trainign data set \n",
    "n_obs, n_features = train_data_NotDistributed.shape\n",
    "M = np.c_[train_data_NotDistributed[:, 3:], np.array([1]*n_obs)]\n",
    "#y = train_data_NotDistributed[:, 2]\n",
    "y = train_data_NotDistributed[:, 1:3]\n",
    "f = func_f\n",
    "df = derivative_f\n",
    "g = func_pinball_multi_labels\n",
    "prox_g = prox_pinball_multi_labels\n",
    "z0 = np.zeros((n_obs,2))\n",
    "p0 = np.zeros((n_obs,2))\n",
    "\n",
    "history = {st: [] for st in ['obj', 'x', 'p', 'z']}\n",
    "def callback(values, history):\n",
    "    history['obj'].append(values['obj'])\n",
    "    history['x'].append(values['x'])\n",
    "    history['p'].append(values['p'])\n",
    "    history['z'].append(values['z'])\n",
    "#n_features, n_obs, M.shape, M[:, -1]\n",
    "\n",
    "# we show that the distance (x, p) can be smaller than 1e-3\n",
    "admm(M, y, f, df, g, prox_g, z0, p0, alpha=1, gamma=5, tao=0.9, run_max=100, verbose=True, call_back=callback, history=history)"
   ]
  },
  {
   "cell_type": "code",
   "execution_count": 235,
   "metadata": {
    "collapsed": false
   },
   "outputs": [],
   "source": [
    "import matplotlib.pyplot as plt\n",
    "\n",
    "N = len(history['z'])\n",
    "history['Mw'] = list(map(lambda x: M.dot(x), history['x']))\n",
    "history['|Mw-z|'] = [np.linalg.norm(history['Mw'][i] - history['z'][i]) for i in range(N)]"
   ]
  },
  {
   "cell_type": "code",
   "execution_count": 236,
   "metadata": {
    "collapsed": false
   },
   "outputs": [
    {
     "data": {
      "text/plain": [
       "[<matplotlib.lines.Line2D at 0x11cbd19e8>]"
      ]
     },
     "execution_count": 236,
     "metadata": {},
     "output_type": "execute_result"
    }
   ],
   "source": [
    "#plt.plot(history['obj'])\n",
    "plt.plot(history['|Mw-z|'])"
   ]
  },
  {
   "cell_type": "code",
   "execution_count": 242,
   "metadata": {
    "collapsed": false
   },
   "outputs": [
    {
     "data": {
      "text/plain": [
       "[<matplotlib.lines.Line2D at 0x14bc48e10>]"
      ]
     },
     "execution_count": 242,
     "metadata": {},
     "output_type": "execute_result"
    }
   ],
   "source": [
    "plt.plot(history['obj'])"
   ]
  },
  {
   "cell_type": "code",
   "execution_count": 239,
   "metadata": {
    "collapsed": false
   },
   "outputs": [
    {
     "data": {
      "text/plain": [
       "array([[-0.08877985,  0.1302822 ],\n",
       "       [ 0.05207943, -0.00105523],\n",
       "       [ 0.00640715,  0.02904979],\n",
       "       [ 0.01530422,  0.00740358],\n",
       "       [ 0.23522215, -0.18471039],\n",
       "       [ 0.28629891, -0.18106153],\n",
       "       [ 0.0940762 ,  0.20875795],\n",
       "       [ 0.1211519 ,  0.168844  ],\n",
       "       [ 0.01185821, -0.1632812 ],\n",
       "       [ 0.04497183, -0.14246156],\n",
       "       [-0.20885837,  0.17814483],\n",
       "       [-0.13903856,  0.11063285],\n",
       "       [ 0.13536388, -0.19441743],\n",
       "       [ 0.12008315, -0.20119697],\n",
       "       [-0.08567397,  0.31012605],\n",
       "       [-0.05903435,  0.26922611],\n",
       "       [ 0.60795185,  0.54226987]])"
      ]
     },
     "execution_count": 239,
     "metadata": {},
     "output_type": "execute_result"
    }
   ],
   "source": [
    "# the solution x for execution time = 100\n",
    "history['x'][-1]"
   ]
  },
  {
   "cell_type": "markdown",
   "metadata": {},
   "source": [
    "### Question 5 \n",
    "\n",
    "### try a parallel one"
   ]
  },
  {
   "cell_type": "code",
   "execution_count": 243,
   "metadata": {
    "collapsed": false
   },
   "outputs": [],
   "source": [
    "M = train_data.map(lambda x : np.concatenate([x[3:], [1]]))"
   ]
  },
  {
   "cell_type": "code",
   "execution_count": 244,
   "metadata": {
    "collapsed": false
   },
   "outputs": [
    {
     "data": {
      "text/plain": [
       "array([-8.80794973,  4.11202587, -2.41461089, -2.40804308, -1.68526291,\n",
       "       -1.69636462, -2.40221731, -2.37614591, -0.10232463, -0.18006735,\n",
       "        1.80797324,  2.35864243,  2.64358408,  2.74284705,  1.40605862,\n",
       "        1.65788829,  1.        ])"
      ]
     },
     "execution_count": 244,
     "metadata": {},
     "output_type": "execute_result"
    }
   ],
   "source": [
    "M.first()"
   ]
  },
  {
   "cell_type": "code",
   "execution_count": 251,
   "metadata": {
    "collapsed": false
   },
   "outputs": [],
   "source": [
    "d = len(train_data.first()[3:]) + 1\n",
    "alpha = 1\n",
    "gamma = 1\n",
    "# define a new train data\n",
    "train_data_with_z_and_mu = train_data.map(lambda row: { 'y' : row[1:3],\n",
    "                                                        'x' : np.concatenate([row[3:], [1]]),\n",
    "                                                        'z' : np.zeros(2),\n",
    "                                                        'mu': np.zeros(2)\n",
    "                                                      })\n",
    "\n",
    "A1 = train_data_with_z_and_mu.map(lambda x: 1/gamma*np.outer(x['x'], x['x'])).reduce(lambda x, y: x+y) \n",
    "A1 += df(alpha, d)\n",
    "b1 = train_data_with_z_and_mu.map(lambda x: 1/gamma*np.outer(x['x'], x['z'])).reduce(lambda x, y: x+y)\n"
   ]
  },
  {
   "cell_type": "code",
   "execution_count": 252,
   "metadata": {
    "collapsed": false
   },
   "outputs": [
    {
     "data": {
      "text/plain": [
       "array([[ 0.,  0.],\n",
       "       [ 0.,  0.],\n",
       "       [ 0.,  0.],\n",
       "       [ 0.,  0.],\n",
       "       [ 0.,  0.],\n",
       "       [ 0.,  0.],\n",
       "       [ 0.,  0.],\n",
       "       [ 0.,  0.],\n",
       "       [ 0.,  0.],\n",
       "       [ 0.,  0.],\n",
       "       [ 0.,  0.],\n",
       "       [ 0.,  0.],\n",
       "       [ 0.,  0.],\n",
       "       [ 0.,  0.],\n",
       "       [ 0.,  0.],\n",
       "       [ 0.,  0.],\n",
       "       [ 0.,  0.]])"
      ]
     },
     "execution_count": 252,
     "metadata": {},
     "output_type": "execute_result"
    }
   ],
   "source": [
    "x = np.linalg.inv(A1).dot(b1)\n",
    "x"
   ]
  },
  {
   "cell_type": "markdown",
   "metadata": {},
   "source": [
    "### implement a parallel implementation"
   ]
  },
  {
   "cell_type": "code",
   "execution_count": null,
   "metadata": {
    "collapsed": true
   },
   "outputs": [],
   "source": [
    "# distributed one, use train_data rrd\n",
    "def admm(train_data, y, f, df, g, prox_g, z0, p0, alpha=1, gamma=1, tao=0.9, run_max=100, verbose=False, call_back=None, **params):\n",
    "    \n",
    "    d = len(train_data.first()[3:]) + 1\n",
    "    \n",
    "    if len(y.shape) == 1:\n",
    "        x = np.zeros(d)\n",
    "    else:\n",
    "        x = np.zeros((d, y.shape[1]))\n",
    "    z = z0.copy()\n",
    "    p = p0.copy()\n",
    "    \n",
    "    # step 1 calculate the xk+1\n",
    "    train_data_with_z_and_mu = train_data.map(lambda row: { 'y' : row[1:3],\n",
    "                                                        'x' : np.concatenate([row[3:], [1]]),\n",
    "                                                        'z' : np.zeros(2),\n",
    "                                                        'mu': np.zeros(2)\n",
    "                                                      })\n",
    "\n",
    "    A1 = train_data_with_z_and_mu.map(lambda x: 1/gamma*np.outer(x['x'], x['x'])).reduce(lambda x, y: x+y) \n",
    "    A1 += df(alpha, d)\n",
    "    b1 = train_data_with_z_and_mu.map(lambda x: 1/gamma*np.outer(x['x'], x['z'])).reduce(lambda x, y: x+y)\n",
    "    \n",
    "    x = np.linalg.inv(A1).dot(b1)\n",
    "    \n",
    "    # step 2 calculate the "
   ]
  }
 ],
 "metadata": {
  "kernelspec": {
   "display_name": "Python 3",
   "language": "python",
   "name": "python3"
  },
  "language_info": {
   "codemirror_mode": {
    "name": "ipython",
    "version": 3
   },
   "file_extension": ".py",
   "mimetype": "text/x-python",
   "name": "python",
   "nbconvert_exporter": "python",
   "pygments_lexer": "ipython3",
   "version": "3.6.0"
  }
 },
 "nbformat": 4,
 "nbformat_minor": 0
}

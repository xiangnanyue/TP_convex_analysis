{
 "cells": [
  {
   "cell_type": "markdown",
   "metadata": {},
   "source": [
    "# Computer Lab: Quantile Regression\n",
    "\n",
    "Olivier Fercoq"
   ]
  },
  {
   "cell_type": "markdown",
   "metadata": {
    "collapsed": true
   },
   "source": [
    "# Preparation\n",
    "Please read the file TPquantile_regression_beginning.pdf for instructions on how to launch this notebook"
   ]
  },
  {
   "cell_type": "code",
   "execution_count": 1,
   "metadata": {
    "collapsed": false
   },
   "outputs": [
    {
     "name": "stdout",
     "output_type": "stream",
     "text": [
      "Using matplotlib backend: TkAgg\n",
      "Populating the interactive namespace from numpy and matplotlib\n"
     ]
    }
   ],
   "source": [
    "%pylab\n",
    "%matplotlib inline"
   ]
  },
  {
   "cell_type": "code",
   "execution_count": 2,
   "metadata": {
    "collapsed": true
   },
   "outputs": [],
   "source": [
    "# import the data from txt file, the dist_data is of type spark rdd"
   ]
  },
  {
   "cell_type": "code",
   "execution_count": 3,
   "metadata": {
    "collapsed": true
   },
   "outputs": [],
   "source": [
    "filename = 'ethylene_methane.txt'"
   ]
  },
  {
   "cell_type": "code",
   "execution_count": 4,
   "metadata": {
    "collapsed": false
   },
   "outputs": [
    {
     "data": {
      "text/plain": [
       "[u'Time (seconds), Methane conc (ppm), Ethylene conc (ppm), sensor readings (16 channels) ',\n",
       " u'0.00    0.00    0.00    -41.98  2067.64 -37.13  2.28    8.63    -26.62  -8.46   -0.33   3437.73 2728.14 4054.03 4007.89 4478.27 5056.98 3639.09 3128.49',\n",
       " u'0.01    0.00    0.00    -46.50  2067.88 -28.56  13.69   -12.35  -25.81  -5.04   -5.04   3432.44 2734.47 4038.62 4019.40 4496.72 5051.81 3636.97 3115.03',\n",
       " u'0.02    0.00    0.00    -36.16  2055.81 -10.89  8.63    -2.93   -30.34  -9.27   -2.12   3438.61 2719.97 4030.92 4025.48 4489.54 5057.35 3641.81 3105.24']"
      ]
     },
     "execution_count": 4,
     "metadata": {},
     "output_type": "execute_result"
    }
   ],
   "source": [
    "dist_data = sc.textFile(filename)\n",
    "dist_data.take(4)"
   ]
  },
  {
   "cell_type": "code",
   "execution_count": 5,
   "metadata": {
    "collapsed": false
   },
   "outputs": [
    {
     "data": {
      "text/plain": [
       "pyspark.rdd.RDD"
      ]
     },
     "execution_count": 5,
     "metadata": {},
     "output_type": "execute_result"
    }
   ],
   "source": [
    "type(dist_data)"
   ]
  },
  {
   "cell_type": "code",
   "execution_count": 6,
   "metadata": {
    "collapsed": true
   },
   "outputs": [],
   "source": [
    "# filter to remove the first header line"
   ]
  },
  {
   "cell_type": "code",
   "execution_count": 7,
   "metadata": {
    "collapsed": false
   },
   "outputs": [
    {
     "data": {
      "text/plain": [
       "u'0.00    0.00    0.00    -41.98  2067.64 -37.13  2.28    8.63    -26.62  -8.46   -0.33   3437.73 2728.14 4054.03 4007.89 4478.27 5056.98 3639.09 3128.49'"
      ]
     },
     "execution_count": 7,
     "metadata": {},
     "output_type": "execute_result"
    }
   ],
   "source": [
    "dist_data = dist_data.filter(lambda line: line[0:4] != 'Time')  # remove the first line\n",
    "dist_data.first()"
   ]
  },
  {
   "cell_type": "code",
   "execution_count": 8,
   "metadata": {
    "collapsed": true
   },
   "outputs": [],
   "source": [
    "# we removed the first line, take the first data row and turn it to float numbers by map."
   ]
  },
  {
   "cell_type": "code",
   "execution_count": 9,
   "metadata": {
    "collapsed": false
   },
   "outputs": [
    {
     "data": {
      "text/plain": [
       "array([  0.00000000e+00,   0.00000000e+00,   0.00000000e+00,\n",
       "        -4.19800000e+01,   2.06764000e+03,  -3.71300000e+01,\n",
       "         2.28000000e+00,   8.63000000e+00,  -2.66200000e+01,\n",
       "        -8.46000000e+00,  -3.30000000e-01,   3.43773000e+03,\n",
       "         2.72814000e+03,   4.05403000e+03,   4.00789000e+03,\n",
       "         4.47827000e+03,   5.05698000e+03,   3.63909000e+03,\n",
       "         3.12849000e+03])"
      ]
     },
     "execution_count": 9,
     "metadata": {},
     "output_type": "execute_result"
    }
   ],
   "source": [
    "s = dist_data.first()\n",
    "#print(s)\n",
    "a = np.array(list(map(float, s.split())))\n",
    "a"
   ]
  },
  {
   "cell_type": "code",
   "execution_count": 10,
   "metadata": {
    "collapsed": true
   },
   "outputs": [],
   "source": [
    "# map handles the function for each row of rdd, lambda function turned each line to float array"
   ]
  },
  {
   "cell_type": "code",
   "execution_count": 11,
   "metadata": {
    "collapsed": true
   },
   "outputs": [],
   "source": [
    "dist_data = dist_data.map(lambda line: np.array(list(map(float, line.split()))))"
   ]
  },
  {
   "cell_type": "code",
   "execution_count": 12,
   "metadata": {
    "collapsed": false
   },
   "outputs": [
    {
     "data": {
      "text/plain": [
       "array([  0.00000000e+00,   0.00000000e+00,   0.00000000e+00,\n",
       "        -4.19800000e+01,   2.06764000e+03,  -3.71300000e+01,\n",
       "         2.28000000e+00,   8.63000000e+00,  -2.66200000e+01,\n",
       "        -8.46000000e+00,  -3.30000000e-01,   3.43773000e+03,\n",
       "         2.72814000e+03,   4.05403000e+03,   4.00789000e+03,\n",
       "         4.47827000e+03,   5.05698000e+03,   3.63909000e+03,\n",
       "         3.12849000e+03])"
      ]
     },
     "execution_count": 12,
     "metadata": {},
     "output_type": "execute_result"
    }
   ],
   "source": [
    "dist_data.first()"
   ]
  },
  {
   "cell_type": "code",
   "execution_count": 13,
   "metadata": {
    "collapsed": true
   },
   "outputs": [],
   "source": [
    "# We take about half of the data for the training set, row[0] is the index ?"
   ]
  },
  {
   "cell_type": "code",
   "execution_count": 14,
   "metadata": {
    "collapsed": true
   },
   "outputs": [],
   "source": [
    "train_data_full = dist_data.filter(lambda row: row[0] < 42082.60 / 2.)"
   ]
  },
  {
   "cell_type": "code",
   "execution_count": 15,
   "metadata": {
    "collapsed": false
   },
   "outputs": [
    {
     "data": {
      "text/plain": [
       "array([  0.00000000e+00,   0.00000000e+00,   0.00000000e+00,\n",
       "        -4.19800000e+01,   2.06764000e+03,  -3.71300000e+01,\n",
       "         2.28000000e+00,   8.63000000e+00,  -2.66200000e+01,\n",
       "        -8.46000000e+00,  -3.30000000e-01,   3.43773000e+03,\n",
       "         2.72814000e+03,   4.05403000e+03,   4.00789000e+03,\n",
       "         4.47827000e+03,   5.05698000e+03,   3.63909000e+03,\n",
       "         3.12849000e+03])"
      ]
     },
     "execution_count": 15,
     "metadata": {},
     "output_type": "execute_result"
    }
   ],
   "source": [
    "train_data_full.first()"
   ]
  },
  {
   "cell_type": "code",
   "execution_count": 16,
   "metadata": {
    "collapsed": true
   },
   "outputs": [],
   "source": [
    "# In order to make development smoother, we first consider 1/100th of the training data. \n",
    "# This can be changed when the algorithm is operational."
   ]
  },
  {
   "cell_type": "code",
   "execution_count": 17,
   "metadata": {
    "collapsed": false
   },
   "outputs": [
    {
     "data": {
      "text/plain": [
       "PythonRDD[8] at RDD at PythonRDD.scala:48"
      ]
     },
     "execution_count": 17,
     "metadata": {},
     "output_type": "execute_result"
    }
   ],
   "source": [
    "train_data_full.cache()  # Otherwise, all previous filter operations are re-run each time an action is taken.\n",
    "\n",
    "freq = 100\n",
    "#train_data = train_data_full.filter(lambda row: int(row[0]*100) % freq == 0)\n",
    "train_data = train_data_full.filter(lambda row: int(row[0]) % freq == 0)\n",
    "train_data.cache()  # Otherwise, all previous filter operations are re-run each time an action is taken.\n"
   ]
  },
  {
   "cell_type": "code",
   "execution_count": 18,
   "metadata": {
    "collapsed": false
   },
   "outputs": [
    {
     "data": {
      "text/plain": [
       "array([  0.00000000e+00,   0.00000000e+00,   0.00000000e+00,\n",
       "        -4.19800000e+01,   2.06764000e+03,  -3.71300000e+01,\n",
       "         2.28000000e+00,   8.63000000e+00,  -2.66200000e+01,\n",
       "        -8.46000000e+00,  -3.30000000e-01,   3.43773000e+03,\n",
       "         2.72814000e+03,   4.05403000e+03,   4.00789000e+03,\n",
       "         4.47827000e+03,   5.05698000e+03,   3.63909000e+03,\n",
       "         3.12849000e+03])"
      ]
     },
     "execution_count": 18,
     "metadata": {},
     "output_type": "execute_result"
    }
   ],
   "source": [
    "train_data.first()"
   ]
  },
  {
   "cell_type": "code",
   "execution_count": 19,
   "metadata": {
    "collapsed": true
   },
   "outputs": [],
   "source": [
    "# for standardize both train data and train_data_full, yet collect() only the train_data"
   ]
  },
  {
   "cell_type": "code",
   "execution_count": 20,
   "metadata": {
    "collapsed": false
   },
   "outputs": [
    {
     "name": "stdout",
     "output_type": "stream",
     "text": [
      "('before centering', array([  0.00000000e+00,   0.00000000e+00,   0.00000000e+00,\n",
      "        -4.19800000e+01,   2.06764000e+03,  -3.71300000e+01,\n",
      "         2.28000000e+00,   8.63000000e+00,  -2.66200000e+01,\n",
      "        -8.46000000e+00,  -3.30000000e-01,   3.43773000e+03,\n",
      "         2.72814000e+03,   4.05403000e+03,   4.00789000e+03,\n",
      "         4.47827000e+03,   5.05698000e+03,   3.63909000e+03,\n",
      "         3.12849000e+03]))\n",
      "('nb of columns', (19,))\n",
      "('nb of observations', 21102)\n",
      "('row_means', array([  1.04996516e+04,   6.44759895e+01,   3.86201924e+00,\n",
      "         2.43582046e+03,   1.76862098e+03,   2.77203506e+03,\n",
      "         3.05812133e+03,   1.93607030e+03,   2.47621240e+03,\n",
      "         2.68626355e+03,   2.98321356e+03,   3.46175147e+03,\n",
      "         2.76061554e+03,   2.29518589e+03,   2.04530061e+03,\n",
      "         1.76770531e+03,   1.90159642e+03,   2.29297087e+03,\n",
      "         1.85923681e+03]))\n",
      "('after centering', array([ -1.04996516e+04,  -6.44759895e+01,  -3.86201924e+00,\n",
      "        -2.47780046e+03,   2.99019024e+02,  -2.80916506e+03,\n",
      "        -3.05584133e+03,  -1.92744030e+03,  -2.50283240e+03,\n",
      "        -2.69472355e+03,  -2.98354356e+03,  -2.40214743e+01,\n",
      "        -3.24755360e+01,   1.75884411e+03,   1.96258939e+03,\n",
      "         2.71056469e+03,   3.15538358e+03,   1.34611913e+03,\n",
      "         1.26925319e+03]))\n",
      "('row_stds', array([  6.09131556e+03,   7.83511015e+01,   5.10778872e+00,\n",
      "         2.81314101e+02,   7.27181767e+01,   1.16340280e+03,\n",
      "         1.26901439e+03,   1.14370303e+03,   1.47540946e+03,\n",
      "         1.12176510e+03,   1.25562304e+03,   2.34757501e+02,\n",
      "         1.80352164e+02,   9.72826407e+02,   8.32084322e+02,\n",
      "         1.02533705e+03,   1.15040450e+03,   9.57370556e+02,\n",
      "         7.65584266e+02]))\n",
      "('after standardizing', array([-1.72370837, -0.82291108, -0.75610395, -8.80794973,  4.11202587,\n",
      "       -2.41461089, -2.40804308, -1.68526291, -1.69636462, -2.40221731,\n",
      "       -2.37614591, -0.10232463, -0.18006735,  1.80797324,  2.35864243,\n",
      "        2.64358408,  2.74284705,  1.40605862,  1.65788829]))\n",
      "('this should be 0', array([  6.36646291e-12,  -2.26350494e-10,  -2.62616595e-11,\n",
      "         1.33411504e-10,   8.74678108e-10,   5.58202373e-11,\n",
      "         1.83035809e-11,   6.59383659e-12,  -6.02540240e-12,\n",
      "        -7.95807864e-12,   4.17230694e-11,   3.35376171e-10,\n",
      "        -1.47792889e-11,  -1.30739863e-11,   3.41060513e-13,\n",
      "         2.79669621e-11,   1.25055521e-11,  -2.48974175e-11,\n",
      "         6.98037184e-11]))\n",
      "('this should be 1', array([ 1.,  1.,  1.,  1.,  1.,  1.,  1.,  1.,  1.,  1.,  1.,  1.,  1.,\n",
      "        1.,  1.,  1.,  1.,  1.,  1.]))\n",
      "('before centering', array([  0.00000000e+00,   0.00000000e+00,   0.00000000e+00,\n",
      "        -4.19800000e+01,   2.06764000e+03,  -3.71300000e+01,\n",
      "         2.28000000e+00,   8.63000000e+00,  -2.66200000e+01,\n",
      "        -8.46000000e+00,  -3.30000000e-01,   3.43773000e+03,\n",
      "         2.72814000e+03,   4.05403000e+03,   4.00789000e+03,\n",
      "         4.47827000e+03,   5.05698000e+03,   3.63909000e+03,\n",
      "         3.12849000e+03]))\n",
      "('nb of columns', (19,))\n",
      "('nb of observations', 2103710)\n",
      "('row_means', array([  1.05202097e+04,   6.58268680e+01,   4.00256815e+00,\n",
      "         2.44494716e+03,   1.77130464e+03,   2.76510015e+03,\n",
      "         3.05301516e+03,   1.95108640e+03,   2.49727964e+03,\n",
      "         2.68486121e+03,   2.98526551e+03,   3.46079147e+03,\n",
      "         2.76010957e+03,   2.26482100e+03,   2.02310043e+03,\n",
      "         1.76247624e+03,   1.89257771e+03,   2.27053023e+03,\n",
      "         1.84282247e+03]))\n",
      "('after centering', array([ -1.05202097e+04,  -6.58268680e+01,  -4.00256815e+00,\n",
      "        -2.48692716e+03,   2.96335356e+02,  -2.80223015e+03,\n",
      "        -3.05073516e+03,  -1.94245640e+03,  -2.52389964e+03,\n",
      "        -2.69332121e+03,  -2.98559551e+03,  -2.30614696e+01,\n",
      "        -3.19695712e+01,   1.78920900e+03,   1.98478957e+03,\n",
      "         2.71579376e+03,   3.16440229e+03,   1.36855977e+03,\n",
      "         1.28566753e+03]))\n",
      "('row_stds', array([  6.07438616e+03,   7.95484604e+01,   5.24099946e+00,\n",
      "         2.31798373e+02,   1.36465887e+02,   1.11183843e+03,\n",
      "         1.21345913e+03,   1.10818080e+03,   1.42981116e+03,\n",
      "         1.06158547e+03,   1.18945978e+03,   2.37398349e+02,\n",
      "         1.82950354e+02,   9.36974896e+02,   7.92007347e+02,\n",
      "         9.86507646e+02,   1.10449810e+03,   9.16722868e+02,\n",
      "         7.29246389e+02]))\n",
      "('after standardizing', array([ -1.73189676,  -0.8275065 ,  -0.76370322, -10.72883786,\n",
      "         2.17149767,  -2.52035734,  -2.51408151,  -1.75283348,\n",
      "        -1.76519789,  -2.5370743 ,  -2.51004325,  -0.0971425 ,\n",
      "        -0.17474452,   1.90955917,   2.50602419,   2.75293736,\n",
      "         2.86501378,   1.49288277,   1.76300843]))\n",
      "('this should be 0', array([  1.41444616e-08,  -1.02130434e-06,   3.36374796e-07,\n",
      "        -8.91814125e-07,  -1.12510497e-06,   1.42914359e-07,\n",
      "         1.15091098e-07,   2.42464012e-07,   7.88277248e-08,\n",
      "         2.44879629e-07,   2.39844667e-07,   8.07762262e-07,\n",
      "         1.95246139e-06,   2.04890966e-08,   1.91954314e-07,\n",
      "         1.27736712e-07,   1.57495379e-07,  -4.32191882e-09,\n",
      "         2.09096470e-07]))\n",
      "('this should be 1', array([ 1.,  1.,  1.,  1.,  1.,  1.,  1.,  1.,  1.,  1.,  1.,  1.,  1.,\n",
      "        1.,  1.,  1.,  1.,  1.,  1.]))\n"
     ]
    }
   ],
   "source": [
    "def standardize(train_data):\n",
    "    print('before centering', train_data.first())\n",
    "    row_sums = train_data.reduce(lambda a, b: a + b)\n",
    "    print('nb of columns', row_sums.shape)\n",
    "    n_train = train_data.count()\n",
    "    print('nb of observations', n_train)\n",
    "\n",
    "    row_means = row_sums / n_train\n",
    "    print('row_means', row_means)\n",
    "\n",
    "    train_data = train_data.map(lambda r: r - row_means)\n",
    "    print('after centering', train_data.first())\n",
    "\n",
    "    row_stds = np.sqrt(train_data.map(lambda r: r ** 2).reduce(lambda a, b: a + b) / n_train)\n",
    "    print('row_stds', row_stds)\n",
    "    train_data = train_data.map(lambda r: r / row_stds)\n",
    "    print('after standardizing', train_data.first())\n",
    "\n",
    "    row_sums_should_be_0 = train_data.reduce(lambda a, b: a + b)\n",
    "    print('this should be 0', row_sums_should_be_0)\n",
    "    row_stds_should_be_1 = np.sqrt(train_data.map(lambda r: r ** 2).reduce(lambda a, b: a + b) / n_train)\n",
    "    print('this should be 1', row_stds_should_be_1)\n",
    "\n",
    "    return train_data\n",
    "\n",
    "train_data = standardize(train_data)\n",
    "train_data_NotDistributed = np.array(train_data.collect())  # collect() should be used only on small RDDs\n",
    "\n",
    "train_data_full = standardize(train_data_full)"
   ]
  },
  {
   "cell_type": "code",
   "execution_count": 21,
   "metadata": {
    "collapsed": false
   },
   "outputs": [
    {
     "data": {
      "text/plain": [
       "((21102, 19), PythonRDD[18] at collect at <ipython-input-20-fdd790be1ba3>:27)"
      ]
     },
     "execution_count": 21,
     "metadata": {},
     "output_type": "execute_result"
    }
   ],
   "source": [
    "train_data_NotDistributed.shape, train_data"
   ]
  },
  {
   "cell_type": "markdown",
   "metadata": {},
   "source": [
    "# Distributed least squares"
   ]
  },
  {
   "cell_type": "markdown",
   "metadata": {},
   "source": [
    "### 3.2"
   ]
  },
  {
   "cell_type": "code",
   "execution_count": 22,
   "metadata": {
    "collapsed": false
   },
   "outputs": [
    {
     "data": {
      "text/plain": [
       "((21102, 16), (21102, 2))"
      ]
     },
     "execution_count": 22,
     "metadata": {},
     "output_type": "execute_result"
    }
   ],
   "source": [
    "X = train_data_NotDistributed[:, 3:]\n",
    "y = train_data_NotDistributed[:, 1:3]\n",
    "X.shape, y.shape"
   ]
  },
  {
   "cell_type": "code",
   "execution_count": 23,
   "metadata": {
    "collapsed": true
   },
   "outputs": [],
   "source": [
    "# get closed-form solution\n",
    "W = np.linalg.solve(a=X.T.dot(X), b=X.T.dot(y))"
   ]
  },
  {
   "cell_type": "code",
   "execution_count": 24,
   "metadata": {
    "collapsed": false
   },
   "outputs": [
    {
     "data": {
      "text/plain": [
       "((16, 2), array([[  0.20112332,   0.40003616],\n",
       "        [  0.07544213,   0.07243659],\n",
       "        [  6.80878733,  -1.50964233],\n",
       "        [ -3.69864834,   6.17855383],\n",
       "        [-10.68830581,  -1.12443226],\n",
       "        [  3.74523502,  -1.53292001],\n",
       "        [  0.60163843,  -6.83221707],\n",
       "        [  2.867276  ,   3.19708374],\n",
       "        [ -1.31779565,   0.45799037],\n",
       "        [  1.07483576,  -0.87620455],\n",
       "        [  1.64402582,  -1.17964847],\n",
       "        [ -7.05906705,  -7.37769584],\n",
       "        [  2.30394624,   1.89215007],\n",
       "        [  5.1616917 ,   0.78613241],\n",
       "        [  2.57448691,   5.48816121],\n",
       "        [ -3.3299369 ,   2.8900424 ]]))"
      ]
     },
     "execution_count": 24,
     "metadata": {},
     "output_type": "execute_result"
    }
   ],
   "source": [
    "W.shape, W"
   ]
  },
  {
   "cell_type": "markdown",
   "metadata": {
    "collapsed": true
   },
   "source": [
    "### 3.3"
   ]
  },
  {
   "cell_type": "markdown",
   "metadata": {},
   "source": [
    "### on the reduced set"
   ]
  },
  {
   "cell_type": "code",
   "execution_count": 25,
   "metadata": {
    "collapsed": true
   },
   "outputs": [],
   "source": [
    "parallel_train_X = sc.parallelize(train_data_NotDistributed) # or use directly the train_data"
   ]
  },
  {
   "cell_type": "code",
   "execution_count": 26,
   "metadata": {
    "collapsed": true
   },
   "outputs": [],
   "source": [
    "XX = parallel_train_X.map(lambda a: np.outer(a[3:], a[3:])).reduce(lambda a,b: a+b)\n",
    "yy = parallel_train_X.map(lambda a: np.outer(a[3:], a[1:3])).reduce(lambda a,b: a+b)"
   ]
  },
  {
   "cell_type": "code",
   "execution_count": 27,
   "metadata": {
    "collapsed": false
   },
   "outputs": [
    {
     "data": {
      "text/plain": [
       "((16, 16), (16, 2))"
      ]
     },
     "execution_count": 27,
     "metadata": {},
     "output_type": "execute_result"
    }
   ],
   "source": [
    "XX.shape, yy.shape"
   ]
  },
  {
   "cell_type": "code",
   "execution_count": 28,
   "metadata": {
    "collapsed": true
   },
   "outputs": [],
   "source": [
    "W = np.linalg.inv(XX).dot(yy)"
   ]
  },
  {
   "cell_type": "code",
   "execution_count": 29,
   "metadata": {
    "collapsed": false
   },
   "outputs": [
    {
     "data": {
      "text/plain": [
       "array([[  0.20112332,   0.40003616],\n",
       "       [  0.07544213,   0.07243659],\n",
       "       [  6.80878733,  -1.50964233],\n",
       "       [ -3.69864834,   6.17855383],\n",
       "       [-10.68830581,  -1.12443226],\n",
       "       [  3.74523502,  -1.53292001],\n",
       "       [  0.60163843,  -6.83221707],\n",
       "       [  2.867276  ,   3.19708374],\n",
       "       [ -1.31779565,   0.45799037],\n",
       "       [  1.07483576,  -0.87620455],\n",
       "       [  1.64402582,  -1.17964847],\n",
       "       [ -7.05906705,  -7.37769584],\n",
       "       [  2.30394624,   1.89215007],\n",
       "       [  5.1616917 ,   0.78613241],\n",
       "       [  2.57448691,   5.48816121],\n",
       "       [ -3.3299369 ,   2.8900424 ]])"
      ]
     },
     "execution_count": 29,
     "metadata": {},
     "output_type": "execute_result"
    }
   ],
   "source": [
    "W"
   ]
  },
  {
   "cell_type": "code",
   "execution_count": 30,
   "metadata": {
    "collapsed": false
   },
   "outputs": [
    {
     "data": {
      "text/plain": [
       "array([[  0.20112332,   0.40003616],\n",
       "       [  0.07544213,   0.07243659],\n",
       "       [  6.80878733,  -1.50964233],\n",
       "       [ -3.69864834,   6.17855383],\n",
       "       [-10.68830581,  -1.12443226],\n",
       "       [  3.74523502,  -1.53292001],\n",
       "       [  0.60163843,  -6.83221707],\n",
       "       [  2.867276  ,   3.19708374],\n",
       "       [ -1.31779565,   0.45799037],\n",
       "       [  1.07483576,  -0.87620455],\n",
       "       [  1.64402582,  -1.17964847],\n",
       "       [ -7.05906705,  -7.37769584],\n",
       "       [  2.30394624,   1.89215007],\n",
       "       [  5.1616917 ,   0.78613241],\n",
       "       [  2.57448691,   5.48816121],\n",
       "       [ -3.3299369 ,   2.8900424 ]])"
      ]
     },
     "execution_count": 30,
     "metadata": {},
     "output_type": "execute_result"
    }
   ],
   "source": [
    "def solve_linear_parallel(rrd_train):\n",
    "    XX = rrd_train.map(lambda a: np.outer(a[3:], a[3:])).reduce(lambda a,b: a+b)\n",
    "    yy = rrd_train.map(lambda a: np.outer(a[3:], a[1:3])).reduce(lambda a,b: a+b)\n",
    "    W = np.linalg.inv(XX).dot(yy)\n",
    "    return W\n",
    "\n",
    "solve_linear_parallel(train_data)"
   ]
  },
  {
   "cell_type": "markdown",
   "metadata": {},
   "source": [
    "### on the full set"
   ]
  },
  {
   "cell_type": "code",
   "execution_count": 31,
   "metadata": {
    "collapsed": false
   },
   "outputs": [
    {
     "data": {
      "text/plain": [
       "array([[ 0.09682988,  0.0485206 ],\n",
       "       [ 0.01240669, -0.01502376],\n",
       "       [-0.14024083,  5.88192701],\n",
       "       [ 0.34187629, -3.28065969],\n",
       "       [-6.83667423,  2.31979054],\n",
       "       [ 4.59287714, -1.15516419],\n",
       "       [ 0.99581238, -5.54778859],\n",
       "       [ 1.39054027,  1.35446226],\n",
       "       [-0.867363  ,  0.33945828],\n",
       "       [ 0.69831324, -0.46888552],\n",
       "       [ 1.81161887, -2.64645593],\n",
       "       [-3.18783061, -1.90203955],\n",
       "       [ 0.22809633, -0.40600687],\n",
       "       [ 2.78471187, -0.491782  ],\n",
       "       [ 0.08956648,  4.89059757],\n",
       "       [-1.11281948,  1.72824999]])"
      ]
     },
     "execution_count": 31,
     "metadata": {},
     "output_type": "execute_result"
    }
   ],
   "source": [
    "solve_linear_parallel(train_data_full)"
   ]
  },
  {
   "cell_type": "code",
   "execution_count": 32,
   "metadata": {
    "collapsed": false
   },
   "outputs": [
    {
     "data": {
      "text/plain": [
       "array([2, 4, 2])"
      ]
     },
     "execution_count": 32,
     "metadata": {},
     "output_type": "execute_result"
    }
   ],
   "source": [
    "np.maximum([2,-3,1], [2,4,2])"
   ]
  },
  {
   "cell_type": "markdown",
   "metadata": {},
   "source": [
    "### Question 4.5"
   ]
  },
  {
   "cell_type": "code",
   "execution_count": 33,
   "metadata": {
    "collapsed": false
   },
   "outputs": [
    {
     "name": "stdout",
     "output_type": "stream",
     "text": [
      "[ 2.25  3.25  5.5 ]\n",
      "[[ 2.25  3.25  5.5 ]\n",
      " [ 2.5   2.5   5.5 ]]\n",
      "[[ 1.8    3.6    5.4  ]\n",
      " [ 2.025  2.925  4.95 ]]\n"
     ]
    }
   ],
   "source": [
    "\n",
    "# this calculate the proximal of pinball funciton \n",
    "# L_tao(y - v), where L_tao(v) = max(−(1 − τ)v, τv)\n",
    "def func_pinball(v, tao=0.9):\n",
    "    return np.maximum(-(1-tao)*v, tao*v)\n",
    "\n",
    "def prox_pinball(v, y, tao=0.9, s=1):\n",
    "    \n",
    "    length = len(v)\n",
    "    w = np.zeros(length)\n",
    "    \n",
    "    for i in range(length):\n",
    "        if v[i] > y[i] + (1 - tao):\n",
    "            w[i] = v[i] + (tao - 1) * s\n",
    "        elif v[i] < y[i] - tao:\n",
    "            w[i] = v[i] + tao * s\n",
    "        else:\n",
    "            w[i] = y[i]\n",
    "    return w\n",
    "\n",
    "def func_pinball_multi_labels(v, tao=0.9):\n",
    "    if len(v.shape) == 1:\n",
    "        return func_pinball(v, tao)\n",
    "    return np.c_[[func_pinball(v[:,i], tao) for i in range(v.shape[1])]].T\n",
    "\n",
    "\n",
    "def prox_pinball_multi_labels(v, y, tao=0.9, s=1):\n",
    "    if len(v.shape) == 1:\n",
    "        return prox_pinball(v, y, tao, s)\n",
    "    return np.c_[[prox_pinball(v[:,i], y[:,i], tao, s) for i in range(v.shape[1])]].T\n",
    "    \n",
    "# test\n",
    "v = np.array([2, 4, 6])\n",
    "y = np.array([3.9, 1, 5.5])\n",
    "tao = 0.25\n",
    "print(prox_pinball(v, y, tao))\n",
    "\n",
    "vm = array([[ 2,  4,  6 ], [ 2.25,  3.25,  5.5 ]])\n",
    "ym = np.array([[3.9, 1, 5.5], [3.9, 1, 5.5]])\n",
    "print(prox_pinball_multi_labels(vm, ym, tao))\n",
    "print(func_pinball_multi_labels(vm))"
   ]
  },
  {
   "cell_type": "code",
   "execution_count": 34,
   "metadata": {
    "collapsed": false
   },
   "outputs": [
    {
     "data": {
      "text/plain": [
       "9.5786220303340084"
      ]
     },
     "execution_count": 34,
     "metadata": {},
     "output_type": "execute_result"
    }
   ],
   "source": [
    "np.linalg.norm(array([[ 2.25,  3.25,  5.5 ], [ 2.25,  3.25,  5.5 ]]))"
   ]
  },
  {
   "cell_type": "code",
   "execution_count": 35,
   "metadata": {
    "collapsed": false
   },
   "outputs": [
    {
     "data": {
      "text/plain": [
       "(21102, 2)"
      ]
     },
     "execution_count": 35,
     "metadata": {},
     "output_type": "execute_result"
    }
   ],
   "source": [
    "y = train_data_NotDistributed[:, 1:3]\n",
    "y.shape"
   ]
  },
  {
   "cell_type": "markdown",
   "metadata": {},
   "source": [
    "### not distributed admm"
   ]
  },
  {
   "cell_type": "code",
   "execution_count": 52,
   "metadata": {
    "collapsed": true
   },
   "outputs": [],
   "source": [
    "def derivative_f(alpha, d):\n",
    "    A = np.diag([alpha]*(d-1) + [0])\n",
    "    return A\n",
    "\n",
    "def func_f(alpha, x):\n",
    "    return alpha/2 * np.sum(x**2)\n",
    "    \n",
    "def admm_serial(M, y, f, df, g, prox_g, z0, p0, alpha=1, gamma=1, tao=0.9, run_max=100, verbose=False, call_back=None, **params):\n",
    "    d = M.shape[1]\n",
    "    if len(y.shape) == 1:\n",
    "        x = np.zeros(d)\n",
    "    else:\n",
    "        x = np.zeros((d, y.shape[1]))\n",
    "    z = z0.copy()\n",
    "    p = p0.copy()\n",
    "    \n",
    "    for i in range(run_max):\n",
    "\n",
    "        x_old = x.copy()\n",
    "        p_old = p.copy()\n",
    "        \n",
    "        # step 1 calculate the xk+1\n",
    "        A1 = 1/gamma*M.T.dot(M) + df(alpha, d)\n",
    "        b1 = 1/gamma*M.T.dot(z) - M.T.dot(p)\n",
    "        x = np.linalg.inv(A1).dot(b1)\n",
    "        # step 2 calculate the zk+1\n",
    "        v = gamma*(p + 1/gamma*M.dot(x))\n",
    "        z = prox_g(v, y, tao, gamma) # s = gamma ?\n",
    "        # step 3 calculate the p\n",
    "        #print(z.shape)\n",
    "        p = p + 1/gamma*(M.dot(x) - z)\n",
    "\n",
    "        obj_func = f(alpha, x) + np.sum(g(y - M.dot(x), tao))\n",
    "        # a call back function for user \n",
    "        call_values = {'x':x.copy(), 'z':z.copy(), 'p': p.copy(), 'obj':obj_func}\n",
    "        call_back(call_values, **params)\n",
    "        \n",
    "        # calculate the distance to stop admm\n",
    "        dis = np.linalg.norm(x-x_old)+np.linalg.norm(p - p_old)\n",
    "        if verbose:\n",
    "            print(\"run time =\", i, \"the value of object function is,\", obj_func, \"distance is\", dis)\n",
    "            \n",
    "        if dis < 1e-3:\n",
    "            print(\"executed\", i, \" times x=\", x)\n",
    "            break\n",
    "    "
   ]
  },
  {
   "cell_type": "code",
   "execution_count": 59,
   "metadata": {
    "collapsed": true
   },
   "outputs": [],
   "source": [
    "import time \n",
    "# train_data_NotDistributed is the trainign data set \n",
    "n_obs, n_features = train_data_NotDistributed.shape\n",
    "M = np.c_[train_data_NotDistributed[:, 3:], np.array([1]*n_obs)]\n",
    "#y = train_data_NotDistributed[:, 2]\n",
    "y = train_data_NotDistributed[:, 1:3]\n",
    "f = func_f\n",
    "df = derivative_f\n",
    "g = func_pinball_multi_labels\n",
    "prox_g = prox_pinball_multi_labels\n",
    "z0 = np.zeros((n_obs,2))\n",
    "p0 = np.zeros((n_obs,2))\n",
    "\n",
    "history = {st: [] for st in ['obj', 'x', 'p', 'z']}\n",
    "def callback(values, history):\n",
    "    history['obj'].append(values['obj'])\n",
    "    history['x'].append(values['x'])\n",
    "    history['p'].append(values['p'])\n",
    "    history['z'].append(values['z'])\n",
    "\n",
    "# we show that the distance (x, p) can be smaller than 1e-3\n",
    "t1 = time.time()\n",
    "admm_serial(M, y, f, df, g, prox_g, z0, p0, alpha=1, gamma=1, tao=0.9, run_max=100, verbose=False, call_back=callback, history=history)\n",
    "t2 = time.time()\n",
    "t_serial = t2 - t1"
   ]
  },
  {
   "cell_type": "code",
   "execution_count": 61,
   "metadata": {
    "collapsed": false
   },
   "outputs": [
    {
     "name": "stdout",
     "output_type": "stream",
     "text": [
      "runtime : 8.152117 s\n"
     ]
    }
   ],
   "source": [
    "print('runtime : %f s'%t_serial)"
   ]
  },
  {
   "cell_type": "code",
   "execution_count": 62,
   "metadata": {
    "collapsed": true
   },
   "outputs": [],
   "source": [
    "import matplotlib.pyplot as plt\n",
    "\n",
    "N = len(history['z'])\n",
    "history['Mw'] = list(map(lambda x: M.dot(x), history['x']))\n",
    "history['|Mw-z|'] = [np.linalg.norm(history['Mw'][i] - history['z'][i]) for i in range(N)]"
   ]
  },
  {
   "cell_type": "code",
   "execution_count": 63,
   "metadata": {
    "collapsed": false
   },
   "outputs": [
    {
     "data": {
      "text/plain": [
       "<matplotlib.text.Text at 0x7ff9b866b250>"
      ]
     },
     "execution_count": 63,
     "metadata": {},
     "output_type": "execute_result"
    },
    {
     "data": {
      "image/png": "[encoded data removed]",
      "text/plain": [
       "<matplotlib.figure.Figure at 0x7ff9b8723c10>"
      ]
     },
     "metadata": {},
     "output_type": "display_data"
    }
   ],
   "source": [
    "plt.figure(figsize=(10,5))\n",
    "plt.subplot(121)\n",
    "plt.plot(history['|Mw-z|'])\n",
    "plt.xlabel('iteration')\n",
    "plt.ylabel('|Mw-z|')\n",
    "plt.title('serial admm')\n",
    "plt.subplot(122)\n",
    "plt.plot(history['obj'])\n",
    "plt.xlabel('iteration')\n",
    "plt.ylabel('objective')\n",
    "plt.title('serial admm')"
   ]
  },
  {
   "cell_type": "markdown",
   "metadata": {},
   "source": [
    "### Question 5 \n",
    "\n",
    "### try a parallel one"
   ]
  },
  {
   "cell_type": "markdown",
   "metadata": {},
   "source": [
    "### implement a parallel implementation"
   ]
  },
  {
   "cell_type": "code",
   "execution_count": 64,
   "metadata": {
    "collapsed": true
   },
   "outputs": [],
   "source": [
    "# distributed one, use train_data rrd\n",
    "def admm_dist(train_data, n_class, f, df, g, prox_g, alpha=1, gamma=1, tao=0.9, run_max=100, verbose=False, call_back=None, **params):\n",
    "    \n",
    "    d = len(train_data.first()[3:]) + 1\n",
    "    \n",
    "    if n_class == 1:\n",
    "        w = np.zeros(d)\n",
    "    else:\n",
    "        w = np.zeros((d, n_class))\n",
    "\n",
    "    train_data_ = train_data.map(lambda row: { 'y' : row[1:1+n_class],\n",
    "                                           'x' : np.concatenate([row[1+n_class:], [1]]),\n",
    "                                           'z' : np.zeros(n_class),\n",
    "                                           'mu' : np.zeros(n_class)\n",
    "                                      })\n",
    "    objs = []\n",
    "    errs = []\n",
    "    for i in range(run_max):\n",
    "        w_old = w.copy()\n",
    "        # step 1 calculate the x_k+1\n",
    "        A1 = train_data_.map(lambda x: 1/gamma*np.outer(x['x'], x['x'])).reduce(lambda x, y: x+y) \n",
    "        A1 += df(alpha, d)\n",
    "        b1 = train_data_.map(lambda x: 1/gamma*np.outer(x['x'], x['z']-x['mu'])).reduce(lambda x, y: x+y)\n",
    "\n",
    "        w = np.linalg.inv(A1).dot(b1)\n",
    "        train_data_ = train_data_.map(lambda row: { 'y' : row['y'],\n",
    "                                                   'x' : row['x'],\n",
    "                                'z' : prox_g(gamma * row['mu'] + row['x'].dot(w), row['y'],tao,gamma),\n",
    "    'mu' : row['mu']+1./gamma*(row['x'].dot(w)-prox_g(gamma * row['mu'] + row['x'].dot(w), row['y'],tao,gamma))\n",
    "                                              })\n",
    "        \n",
    "        obj_func = f(alpha, w)+train_data_.map(lambda x: np.sum(g(x['y']-x['x'].dot(w),tao))).reduce(lambda x,y: x+y)\n",
    "        \n",
    "        dis = np.linalg.norm(w-w_old)\n",
    "        \n",
    "        if verbose:\n",
    "            print(\"run time =\", i, \"the value of object function is,\", obj_func, \"distance is\", dis)\n",
    "            \n",
    "        objs.append(obj_func)\n",
    "        errs.append()\n",
    "    return train_data_, obj_his, w\n",
    "\n",
    "f = func_f\n",
    "df = derivative_f\n",
    "g = func_pinball_multi_labels\n",
    "prox_g = prox_pinball_multi_labels\n",
    "n_class = 2\n",
    "\n",
    "\n"
   ]
  },
  {
   "cell_type": "code",
   "execution_count": null,
   "metadata": {
    "collapsed": true
   },
   "outputs": [],
   "source": [
    "t1 = time.time()\n",
    "objs_dist, w_dist = admm_dist(train_data, n_class, f, df, g, prox_g, alpha=1, gamma=1, tao=0.9, run_max=100)        \n",
    "t2 = time.time()\n",
    "t_dist = t2 - t1\n",
    "print('runtime: %f s'%t_dist)"
   ]
  },
  {
   "cell_type": "code",
   "execution_count": 41,
   "metadata": {
    "collapsed": false
   },
   "outputs": [
    {
     "data": {
      "text/plain": [
       "[<matplotlib.lines.Line2D at 0x7ff9bb46d690>]"
      ]
     },
     "execution_count": 41,
     "metadata": {},
     "output_type": "execute_result"
    },
    {
     "data": {
      "image/png": "[encoded data removed]",
      "text/plain": [
       "<matplotlib.figure.Figure at 0x7ff9c00946d0>"
      ]
     },
     "metadata": {},
     "output_type": "display_data"
    }
   ],
   "source": [
    "\n",
    "\n",
    "plt.figure(figsize=(10,5))\n",
    "plt.subplot(121)\n",
    "plt.plot(err)\n",
    "plt.xlabel('iteration')\n",
    "plt.ylabel('|Mw-z|')\n",
    "plt.title('serial admm')\n",
    "plt.subplot(122)\n",
    "plt.plot(history['obj'])\n",
    "plt.xlabel('iteration')\n",
    "plt.ylabel('objective')\n",
    "plt.title('serial admm')"
   ]
  },
  {
   "cell_type": "code",
   "execution_count": null,
   "metadata": {
    "collapsed": true
   },
   "outputs": [],
   "source": []
  }
 ],
 "metadata": {
  "kernelspec": {
   "display_name": "Python 3",
   "language": "python",
   "name": "python3"
  },
  "language_info": {
   "codemirror_mode": {
    "name": "ipython",
    "version": 3
   },
   "file_extension": ".py",
   "mimetype": "text/x-python",
   "name": "python",
   "nbconvert_exporter": "python",
   "pygments_lexer": "ipython3",
   "version": "3.6.0"
  }
 },
 "nbformat": 4,
 "nbformat_minor": 1
}

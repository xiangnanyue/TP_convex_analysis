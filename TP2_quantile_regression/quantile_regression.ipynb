{
 "cells": [
  {
   "cell_type": "markdown",
   "metadata": {},
   "source": [
    "# Computer Lab: Quantile Regression\n",
    "\n",
    "Olivier Fercoq"
   ]
  },
  {
   "cell_type": "markdown",
   "metadata": {
    "collapsed": true
   },
   "source": [
    "# Preparation\n",
    "Please read the file TPquantile_regression_beginning.pdf for instructions on how to launch this notebook"
   ]
  },
  {
   "cell_type": "code",
   "execution_count": 79,
   "metadata": {
    "collapsed": false
   },
   "outputs": [
    {
     "name": "stdout",
     "output_type": "stream",
     "text": [
      "Using matplotlib backend: TkAgg\n",
      "Populating the interactive namespace from numpy and matplotlib\n"
     ]
    },
    {
     "name": "stderr",
     "output_type": "stream",
     "text": [
      "/cal/homes/yuwu/.local/lib/python2.7/site-packages/IPython/core/magics/pylab.py:161: UserWarning: pylab import has clobbered these variables: ['f']\n",
      "`%matplotlib` prevents importing * from pylab and numpy\n",
      "  \"\\n`%matplotlib` prevents importing * from pylab and numpy\"\n"
     ]
    }
   ],
   "source": [
    "%pylab\n",
    "%matplotlib inline"
   ]
  },
  {
   "cell_type": "code",
   "execution_count": 80,
   "metadata": {
    "collapsed": true
   },
   "outputs": [],
   "source": [
    "# import the data from txt file, the dist_data is of type spark rdd"
   ]
  },
  {
   "cell_type": "code",
   "execution_count": 81,
   "metadata": {
    "collapsed": true
   },
   "outputs": [],
   "source": [
    "filename = 'ethylene_methane.txt'"
   ]
  },
  {
   "cell_type": "code",
   "execution_count": 82,
   "metadata": {
    "collapsed": false
   },
   "outputs": [
    {
     "data": {
      "text/plain": [
       "[u'Time (seconds), Methane conc (ppm), Ethylene conc (ppm), sensor readings (16 channels) ',\n",
       " u'0.00    0.00    0.00    -41.98  2067.64 -37.13  2.28    8.63    -26.62  -8.46   -0.33   3437.73 2728.14 4054.03 4007.89 4478.27 5056.98 3639.09 3128.49',\n",
       " u'0.01    0.00    0.00    -46.50  2067.88 -28.56  13.69   -12.35  -25.81  -5.04   -5.04   3432.44 2734.47 4038.62 4019.40 4496.72 5051.81 3636.97 3115.03',\n",
       " u'0.02    0.00    0.00    -36.16  2055.81 -10.89  8.63    -2.93   -30.34  -9.27   -2.12   3438.61 2719.97 4030.92 4025.48 4489.54 5057.35 3641.81 3105.24']"
      ]
     },
     "execution_count": 82,
     "metadata": {},
     "output_type": "execute_result"
    }
   ],
   "source": [
    "dist_data = sc.textFile(filename)\n",
    "dist_data.take(4)"
   ]
  },
  {
   "cell_type": "code",
   "execution_count": 83,
   "metadata": {
    "collapsed": false
   },
   "outputs": [
    {
     "data": {
      "text/plain": [
       "pyspark.rdd.RDD"
      ]
     },
     "execution_count": 83,
     "metadata": {},
     "output_type": "execute_result"
    }
   ],
   "source": [
    "type(dist_data)"
   ]
  },
  {
   "cell_type": "code",
   "execution_count": 84,
   "metadata": {
    "collapsed": true
   },
   "outputs": [],
   "source": [
    "# filter to remove the first header line"
   ]
  },
  {
   "cell_type": "code",
   "execution_count": 85,
   "metadata": {
    "collapsed": false
   },
   "outputs": [
    {
     "data": {
      "text/plain": [
       "u'0.00    0.00    0.00    -41.98  2067.64 -37.13  2.28    8.63    -26.62  -8.46   -0.33   3437.73 2728.14 4054.03 4007.89 4478.27 5056.98 3639.09 3128.49'"
      ]
     },
     "execution_count": 85,
     "metadata": {},
     "output_type": "execute_result"
    }
   ],
   "source": [
    "dist_data = dist_data.filter(lambda line: line[0:4] != 'Time')  # remove the first line\n",
    "dist_data.first()"
   ]
  },
  {
   "cell_type": "code",
   "execution_count": 86,
   "metadata": {
    "collapsed": true
   },
   "outputs": [],
   "source": [
    "# we removed the first line, take the first data row and turn it to float numbers by map."
   ]
  },
  {
   "cell_type": "code",
   "execution_count": 87,
   "metadata": {
    "collapsed": false
   },
   "outputs": [
    {
     "data": {
      "text/plain": [
       "array([  0.00000000e+00,   0.00000000e+00,   0.00000000e+00,\n",
       "        -4.19800000e+01,   2.06764000e+03,  -3.71300000e+01,\n",
       "         2.28000000e+00,   8.63000000e+00,  -2.66200000e+01,\n",
       "        -8.46000000e+00,  -3.30000000e-01,   3.43773000e+03,\n",
       "         2.72814000e+03,   4.05403000e+03,   4.00789000e+03,\n",
       "         4.47827000e+03,   5.05698000e+03,   3.63909000e+03,\n",
       "         3.12849000e+03])"
      ]
     },
     "execution_count": 87,
     "metadata": {},
     "output_type": "execute_result"
    }
   ],
   "source": [
    "s = dist_data.first()\n",
    "#print(s)\n",
    "a = np.array(list(map(float, s.split())))\n",
    "a"
   ]
  },
  {
   "cell_type": "code",
   "execution_count": 88,
   "metadata": {
    "collapsed": true
   },
   "outputs": [],
   "source": [
    "# map handles the function for each row of rdd, lambda function turned each line to float array"
   ]
  },
  {
   "cell_type": "code",
   "execution_count": 89,
   "metadata": {
    "collapsed": true
   },
   "outputs": [],
   "source": [
    "dist_data = dist_data.map(lambda line: np.array(list(map(float, line.split()))))"
   ]
  },
  {
   "cell_type": "code",
   "execution_count": 90,
   "metadata": {
    "collapsed": false
   },
   "outputs": [
    {
     "data": {
      "text/plain": [
       "array([  0.00000000e+00,   0.00000000e+00,   0.00000000e+00,\n",
       "        -4.19800000e+01,   2.06764000e+03,  -3.71300000e+01,\n",
       "         2.28000000e+00,   8.63000000e+00,  -2.66200000e+01,\n",
       "        -8.46000000e+00,  -3.30000000e-01,   3.43773000e+03,\n",
       "         2.72814000e+03,   4.05403000e+03,   4.00789000e+03,\n",
       "         4.47827000e+03,   5.05698000e+03,   3.63909000e+03,\n",
       "         3.12849000e+03])"
      ]
     },
     "execution_count": 90,
     "metadata": {},
     "output_type": "execute_result"
    }
   ],
   "source": [
    "dist_data.first()"
   ]
  },
  {
   "cell_type": "code",
   "execution_count": 91,
   "metadata": {
    "collapsed": true
   },
   "outputs": [],
   "source": [
    "# We take about half of the data for the training set, row[0] is the index ?"
   ]
  },
  {
   "cell_type": "code",
   "execution_count": 110,
   "metadata": {
    "collapsed": true
   },
   "outputs": [],
   "source": [
    "train_data_full = dist_data.filter(lambda row: row[0] < 42082.60 / 2.)"
   ]
  },
  {
   "cell_type": "code",
   "execution_count": 111,
   "metadata": {
    "collapsed": false
   },
   "outputs": [
    {
     "data": {
      "text/plain": [
       "array([  0.00000000e+00,   0.00000000e+00,   0.00000000e+00,\n",
       "        -4.19800000e+01,   2.06764000e+03,  -3.71300000e+01,\n",
       "         2.28000000e+00,   8.63000000e+00,  -2.66200000e+01,\n",
       "        -8.46000000e+00,  -3.30000000e-01,   3.43773000e+03,\n",
       "         2.72814000e+03,   4.05403000e+03,   4.00789000e+03,\n",
       "         4.47827000e+03,   5.05698000e+03,   3.63909000e+03,\n",
       "         3.12849000e+03])"
      ]
     },
     "execution_count": 111,
     "metadata": {},
     "output_type": "execute_result"
    }
   ],
   "source": [
    "train_data_full.first()"
   ]
  },
  {
   "cell_type": "code",
   "execution_count": 112,
   "metadata": {
    "collapsed": true
   },
   "outputs": [],
   "source": [
    "# In order to make development smoother, we first consider 1/100th of the training data. \n",
    "# This can be changed when the algorithm is operational."
   ]
  },
  {
   "cell_type": "code",
   "execution_count": 113,
   "metadata": {
    "collapsed": false
   },
   "outputs": [
    {
     "data": {
      "text/plain": [
       "PythonRDD[1710] at RDD at PythonRDD.scala:48"
      ]
     },
     "execution_count": 113,
     "metadata": {},
     "output_type": "execute_result"
    }
   ],
   "source": [
    "train_data_full.cache()  # Otherwise, all previous filter operations are re-run each time an action is taken.\n",
    "\n",
    "freq = 100\n",
    "#train_data = train_data_full.filter(lambda row: int(row[0]*100) % freq == 0)\n",
    "train_data = train_data_full.filter(lambda row: int(row[0]) % freq == 0)\n",
    "train_data.cache()  # Otherwise, all previous filter operations are re-run each time an action is taken.\n"
   ]
  },
  {
   "cell_type": "code",
   "execution_count": 114,
   "metadata": {
    "collapsed": false
   },
   "outputs": [
    {
     "data": {
      "text/plain": [
       "array([  0.00000000e+00,   0.00000000e+00,   0.00000000e+00,\n",
       "        -4.19800000e+01,   2.06764000e+03,  -3.71300000e+01,\n",
       "         2.28000000e+00,   8.63000000e+00,  -2.66200000e+01,\n",
       "        -8.46000000e+00,  -3.30000000e-01,   3.43773000e+03,\n",
       "         2.72814000e+03,   4.05403000e+03,   4.00789000e+03,\n",
       "         4.47827000e+03,   5.05698000e+03,   3.63909000e+03,\n",
       "         3.12849000e+03])"
      ]
     },
     "execution_count": 114,
     "metadata": {},
     "output_type": "execute_result"
    }
   ],
   "source": [
    "train_data.first()"
   ]
  },
  {
   "cell_type": "code",
   "execution_count": 115,
   "metadata": {
    "collapsed": true
   },
   "outputs": [],
   "source": [
    "# for standardize both train data and train_data_full, yet collect() only the train_data"
   ]
  },
  {
   "cell_type": "code",
   "execution_count": 116,
   "metadata": {
    "collapsed": false
   },
   "outputs": [
    {
     "name": "stdout",
     "output_type": "stream",
     "text": [
      "('before centering', array([  0.00000000e+00,   0.00000000e+00,   0.00000000e+00,\n",
      "        -4.19800000e+01,   2.06764000e+03,  -3.71300000e+01,\n",
      "         2.28000000e+00,   8.63000000e+00,  -2.66200000e+01,\n",
      "        -8.46000000e+00,  -3.30000000e-01,   3.43773000e+03,\n",
      "         2.72814000e+03,   4.05403000e+03,   4.00789000e+03,\n",
      "         4.47827000e+03,   5.05698000e+03,   3.63909000e+03,\n",
      "         3.12849000e+03]))\n",
      "('nb of columns', (19,))\n",
      "('nb of observations', 21102)\n",
      "('row_means', array([  1.04996516e+04,   6.44759895e+01,   3.86201924e+00,\n",
      "         2.43582046e+03,   1.76862098e+03,   2.77203506e+03,\n",
      "         3.05812133e+03,   1.93607030e+03,   2.47621240e+03,\n",
      "         2.68626355e+03,   2.98321356e+03,   3.46175147e+03,\n",
      "         2.76061554e+03,   2.29518589e+03,   2.04530061e+03,\n",
      "         1.76770531e+03,   1.90159642e+03,   2.29297087e+03,\n",
      "         1.85923681e+03]))\n",
      "('after centering', array([ -1.04996516e+04,  -6.44759895e+01,  -3.86201924e+00,\n",
      "        -2.47780046e+03,   2.99019024e+02,  -2.80916506e+03,\n",
      "        -3.05584133e+03,  -1.92744030e+03,  -2.50283240e+03,\n",
      "        -2.69472355e+03,  -2.98354356e+03,  -2.40214743e+01,\n",
      "        -3.24755360e+01,   1.75884411e+03,   1.96258939e+03,\n",
      "         2.71056469e+03,   3.15538358e+03,   1.34611913e+03,\n",
      "         1.26925319e+03]))\n",
      "('row_stds', array([  6.09131556e+03,   7.83511015e+01,   5.10778872e+00,\n",
      "         2.81314101e+02,   7.27181767e+01,   1.16340280e+03,\n",
      "         1.26901439e+03,   1.14370303e+03,   1.47540946e+03,\n",
      "         1.12176510e+03,   1.25562304e+03,   2.34757501e+02,\n",
      "         1.80352164e+02,   9.72826407e+02,   8.32084322e+02,\n",
      "         1.02533705e+03,   1.15040450e+03,   9.57370556e+02,\n",
      "         7.65584266e+02]))\n",
      "('after standardizing', array([-1.72370837, -0.82291108, -0.75610395, -8.80794973,  4.11202587,\n",
      "       -2.41461089, -2.40804308, -1.68526291, -1.69636462, -2.40221731,\n",
      "       -2.37614591, -0.10232463, -0.18006735,  1.80797324,  2.35864243,\n",
      "        2.64358408,  2.74284705,  1.40605862,  1.65788829]))\n",
      "('this should be 0', array([  6.36646291e-12,  -2.26350494e-10,  -2.62616595e-11,\n",
      "         1.33411504e-10,   8.74678108e-10,   5.58202373e-11,\n",
      "         1.83035809e-11,   6.59383659e-12,  -6.02540240e-12,\n",
      "        -7.95807864e-12,   4.17230694e-11,   3.35376171e-10,\n",
      "        -1.47792889e-11,  -1.30739863e-11,   3.41060513e-13,\n",
      "         2.79669621e-11,   1.25055521e-11,  -2.48974175e-11,\n",
      "         6.98037184e-11]))\n",
      "('this should be 1', array([ 1.,  1.,  1.,  1.,  1.,  1.,  1.,  1.,  1.,  1.,  1.,  1.,  1.,\n",
      "        1.,  1.,  1.,  1.,  1.,  1.]))\n",
      "('before centering', array([  0.00000000e+00,   0.00000000e+00,   0.00000000e+00,\n",
      "        -4.19800000e+01,   2.06764000e+03,  -3.71300000e+01,\n",
      "         2.28000000e+00,   8.63000000e+00,  -2.66200000e+01,\n",
      "        -8.46000000e+00,  -3.30000000e-01,   3.43773000e+03,\n",
      "         2.72814000e+03,   4.05403000e+03,   4.00789000e+03,\n",
      "         4.47827000e+03,   5.05698000e+03,   3.63909000e+03,\n",
      "         3.12849000e+03]))\n",
      "('nb of columns', (19,))\n",
      "('nb of observations', 2103710)\n",
      "('row_means', array([  1.05202097e+04,   6.58268680e+01,   4.00256815e+00,\n",
      "         2.44494716e+03,   1.77130464e+03,   2.76510015e+03,\n",
      "         3.05301516e+03,   1.95108640e+03,   2.49727964e+03,\n",
      "         2.68486121e+03,   2.98526551e+03,   3.46079147e+03,\n",
      "         2.76010957e+03,   2.26482100e+03,   2.02310043e+03,\n",
      "         1.76247624e+03,   1.89257771e+03,   2.27053023e+03,\n",
      "         1.84282247e+03]))\n",
      "('after centering', array([ -1.05202097e+04,  -6.58268680e+01,  -4.00256815e+00,\n",
      "        -2.48692716e+03,   2.96335356e+02,  -2.80223015e+03,\n",
      "        -3.05073516e+03,  -1.94245640e+03,  -2.52389964e+03,\n",
      "        -2.69332121e+03,  -2.98559551e+03,  -2.30614696e+01,\n",
      "        -3.19695712e+01,   1.78920900e+03,   1.98478957e+03,\n",
      "         2.71579376e+03,   3.16440229e+03,   1.36855977e+03,\n",
      "         1.28566753e+03]))\n",
      "('row_stds', array([  6.07438616e+03,   7.95484604e+01,   5.24099946e+00,\n",
      "         2.31798373e+02,   1.36465887e+02,   1.11183843e+03,\n",
      "         1.21345913e+03,   1.10818080e+03,   1.42981116e+03,\n",
      "         1.06158547e+03,   1.18945978e+03,   2.37398349e+02,\n",
      "         1.82950354e+02,   9.36974896e+02,   7.92007347e+02,\n",
      "         9.86507646e+02,   1.10449810e+03,   9.16722868e+02,\n",
      "         7.29246389e+02]))\n",
      "('after standardizing', array([ -1.73189676,  -0.8275065 ,  -0.76370322, -10.72883786,\n",
      "         2.17149767,  -2.52035734,  -2.51408151,  -1.75283348,\n",
      "        -1.76519789,  -2.5370743 ,  -2.51004325,  -0.0971425 ,\n",
      "        -0.17474452,   1.90955917,   2.50602419,   2.75293736,\n",
      "         2.86501378,   1.49288277,   1.76300843]))\n",
      "('this should be 0', array([  1.41444616e-08,  -1.02130434e-06,   3.36374796e-07,\n",
      "        -8.91814125e-07,  -1.12510497e-06,   1.42914359e-07,\n",
      "         1.15091098e-07,   2.42464012e-07,   7.88277248e-08,\n",
      "         2.44879629e-07,   2.39844667e-07,   8.07762262e-07,\n",
      "         1.95246139e-06,   2.04890966e-08,   1.91954314e-07,\n",
      "         1.27736712e-07,   1.57495379e-07,  -4.32191882e-09,\n",
      "         2.09096470e-07]))\n",
      "('this should be 1', array([ 1.,  1.,  1.,  1.,  1.,  1.,  1.,  1.,  1.,  1.,  1.,  1.,  1.,\n",
      "        1.,  1.,  1.,  1.,  1.,  1.]))\n"
     ]
    }
   ],
   "source": [
    "def standardize(train_data):\n",
    "    print('before centering', train_data.first())\n",
    "    row_sums = train_data.reduce(lambda a, b: a + b)\n",
    "    print('nb of columns', row_sums.shape)\n",
    "    n_train = train_data.count()\n",
    "    print('nb of observations', n_train)\n",
    "\n",
    "    row_means = row_sums / n_train\n",
    "    print('row_means', row_means)\n",
    "\n",
    "    train_data = train_data.map(lambda r: r - row_means)\n",
    "    print('after centering', train_data.first())\n",
    "\n",
    "    row_stds = np.sqrt(train_data.map(lambda r: r ** 2).reduce(lambda a, b: a + b) / n_train)\n",
    "    print('row_stds', row_stds)\n",
    "    train_data = train_data.map(lambda r: r / row_stds)\n",
    "    print('after standardizing', train_data.first())\n",
    "\n",
    "    row_sums_should_be_0 = train_data.reduce(lambda a, b: a + b)\n",
    "    print('this should be 0', row_sums_should_be_0)\n",
    "    row_stds_should_be_1 = np.sqrt(train_data.map(lambda r: r ** 2).reduce(lambda a, b: a + b) / n_train)\n",
    "    print('this should be 1', row_stds_should_be_1)\n",
    "\n",
    "    return train_data\n",
    "\n",
    "train_data = standardize(train_data)\n",
    "train_data_NotDistributed = np.array(train_data.collect())  # collect() should be used only on small RDDs\n",
    "\n",
    "train_data_full = standardize(train_data_full)"
   ]
  },
  {
   "cell_type": "code",
   "execution_count": 102,
   "metadata": {
    "collapsed": false
   },
   "outputs": [
    {
     "data": {
      "text/plain": [
       "((21102, 19),\n",
       " PythonRDD[1350] at collect at <ipython-input-100-fdd790be1ba3>:27,\n",
       " PythonRDD[1359] at RDD at PythonRDD.scala:48)"
      ]
     },
     "execution_count": 102,
     "metadata": {},
     "output_type": "execute_result"
    }
   ],
   "source": [
    "train_data_NotDistributed.shape, train_data, train_data_full"
   ]
  },
  {
   "cell_type": "markdown",
   "metadata": {},
   "source": [
    "# Distributed least squares"
   ]
  },
  {
   "cell_type": "markdown",
   "metadata": {},
   "source": [
    "### Question 3.2"
   ]
  },
  {
   "cell_type": "code",
   "execution_count": 22,
   "metadata": {
    "collapsed": false
   },
   "outputs": [
    {
     "data": {
      "text/plain": [
       "((21102, 16), (21102, 2))"
      ]
     },
     "execution_count": 22,
     "metadata": {},
     "output_type": "execute_result"
    }
   ],
   "source": [
    "X = train_data_NotDistributed[:, 3:]\n",
    "y = train_data_NotDistributed[:, 1:3]\n",
    "X.shape, y.shape"
   ]
  },
  {
   "cell_type": "code",
   "execution_count": 23,
   "metadata": {
    "collapsed": true
   },
   "outputs": [],
   "source": [
    "# get closed-form solution\n",
    "W = np.linalg.solve(a=X.T.dot(X), b=X.T.dot(y))"
   ]
  },
  {
   "cell_type": "code",
   "execution_count": 24,
   "metadata": {
    "collapsed": false
   },
   "outputs": [
    {
     "data": {
      "text/plain": [
       "((16, 2), array([[  0.20112332,   0.40003616],\n",
       "        [  0.07544213,   0.07243659],\n",
       "        [  6.80878733,  -1.50964233],\n",
       "        [ -3.69864834,   6.17855383],\n",
       "        [-10.68830581,  -1.12443226],\n",
       "        [  3.74523502,  -1.53292001],\n",
       "        [  0.60163843,  -6.83221707],\n",
       "        [  2.867276  ,   3.19708374],\n",
       "        [ -1.31779565,   0.45799037],\n",
       "        [  1.07483576,  -0.87620455],\n",
       "        [  1.64402582,  -1.17964847],\n",
       "        [ -7.05906705,  -7.37769584],\n",
       "        [  2.30394624,   1.89215007],\n",
       "        [  5.1616917 ,   0.78613241],\n",
       "        [  2.57448691,   5.48816121],\n",
       "        [ -3.3299369 ,   2.8900424 ]]))"
      ]
     },
     "execution_count": 24,
     "metadata": {},
     "output_type": "execute_result"
    }
   ],
   "source": [
    "W.shape, W"
   ]
  },
  {
   "cell_type": "markdown",
   "metadata": {
    "collapsed": true
   },
   "source": [
    "### Question 3.3"
   ]
  },
  {
   "cell_type": "markdown",
   "metadata": {},
   "source": [
    "### on the reduced set"
   ]
  },
  {
   "cell_type": "code",
   "execution_count": 25,
   "metadata": {
    "collapsed": true
   },
   "outputs": [],
   "source": [
    "parallel_train_X = sc.parallelize(train_data_NotDistributed) # or use directly the train_data"
   ]
  },
  {
   "cell_type": "code",
   "execution_count": 26,
   "metadata": {
    "collapsed": true
   },
   "outputs": [],
   "source": [
    "XX = parallel_train_X.map(lambda a: np.outer(a[3:], a[3:])).reduce(lambda a,b: a+b)\n",
    "yy = parallel_train_X.map(lambda a: np.outer(a[3:], a[1:3])).reduce(lambda a,b: a+b)"
   ]
  },
  {
   "cell_type": "code",
   "execution_count": 27,
   "metadata": {
    "collapsed": false
   },
   "outputs": [
    {
     "data": {
      "text/plain": [
       "((16, 16), (16, 2))"
      ]
     },
     "execution_count": 27,
     "metadata": {},
     "output_type": "execute_result"
    }
   ],
   "source": [
    "XX.shape, yy.shape"
   ]
  },
  {
   "cell_type": "code",
   "execution_count": 28,
   "metadata": {
    "collapsed": true
   },
   "outputs": [],
   "source": [
    "W = np.linalg.inv(XX).dot(yy)"
   ]
  },
  {
   "cell_type": "code",
   "execution_count": 29,
   "metadata": {
    "collapsed": false
   },
   "outputs": [
    {
     "data": {
      "text/plain": [
       "array([[  0.20112332,   0.40003616],\n",
       "       [  0.07544213,   0.07243659],\n",
       "       [  6.80878733,  -1.50964233],\n",
       "       [ -3.69864834,   6.17855383],\n",
       "       [-10.68830581,  -1.12443226],\n",
       "       [  3.74523502,  -1.53292001],\n",
       "       [  0.60163843,  -6.83221707],\n",
       "       [  2.867276  ,   3.19708374],\n",
       "       [ -1.31779565,   0.45799037],\n",
       "       [  1.07483576,  -0.87620455],\n",
       "       [  1.64402582,  -1.17964847],\n",
       "       [ -7.05906705,  -7.37769584],\n",
       "       [  2.30394624,   1.89215007],\n",
       "       [  5.1616917 ,   0.78613241],\n",
       "       [  2.57448691,   5.48816121],\n",
       "       [ -3.3299369 ,   2.8900424 ]])"
      ]
     },
     "execution_count": 29,
     "metadata": {},
     "output_type": "execute_result"
    }
   ],
   "source": [
    "W"
   ]
  },
  {
   "cell_type": "code",
   "execution_count": 30,
   "metadata": {
    "collapsed": false
   },
   "outputs": [
    {
     "data": {
      "text/plain": [
       "array([[  0.20112332,   0.40003616],\n",
       "       [  0.07544213,   0.07243659],\n",
       "       [  6.80878733,  -1.50964233],\n",
       "       [ -3.69864834,   6.17855383],\n",
       "       [-10.68830581,  -1.12443226],\n",
       "       [  3.74523502,  -1.53292001],\n",
       "       [  0.60163843,  -6.83221707],\n",
       "       [  2.867276  ,   3.19708374],\n",
       "       [ -1.31779565,   0.45799037],\n",
       "       [  1.07483576,  -0.87620455],\n",
       "       [  1.64402582,  -1.17964847],\n",
       "       [ -7.05906705,  -7.37769584],\n",
       "       [  2.30394624,   1.89215007],\n",
       "       [  5.1616917 ,   0.78613241],\n",
       "       [  2.57448691,   5.48816121],\n",
       "       [ -3.3299369 ,   2.8900424 ]])"
      ]
     },
     "execution_count": 30,
     "metadata": {},
     "output_type": "execute_result"
    }
   ],
   "source": [
    "def solve_linear_parallel(rrd_train):\n",
    "    XX = rrd_train.map(lambda a: np.outer(a[3:], a[3:])).reduce(lambda a,b: a+b)\n",
    "    yy = rrd_train.map(lambda a: np.outer(a[3:], a[1:3])).reduce(lambda a,b: a+b)\n",
    "    W = np.linalg.inv(XX).dot(yy)\n",
    "    return W\n",
    "\n",
    "solve_linear_parallel(train_data)"
   ]
  },
  {
   "cell_type": "markdown",
   "metadata": {},
   "source": [
    "### on the full set"
   ]
  },
  {
   "cell_type": "code",
   "execution_count": 31,
   "metadata": {
    "collapsed": false
   },
   "outputs": [
    {
     "data": {
      "text/plain": [
       "array([[ 0.09682988,  0.0485206 ],\n",
       "       [ 0.01240669, -0.01502376],\n",
       "       [-0.14024083,  5.88192701],\n",
       "       [ 0.34187629, -3.28065969],\n",
       "       [-6.83667423,  2.31979054],\n",
       "       [ 4.59287714, -1.15516419],\n",
       "       [ 0.99581238, -5.54778859],\n",
       "       [ 1.39054027,  1.35446226],\n",
       "       [-0.867363  ,  0.33945828],\n",
       "       [ 0.69831324, -0.46888552],\n",
       "       [ 1.81161887, -2.64645593],\n",
       "       [-3.18783061, -1.90203955],\n",
       "       [ 0.22809633, -0.40600687],\n",
       "       [ 2.78471187, -0.491782  ],\n",
       "       [ 0.08956648,  4.89059757],\n",
       "       [-1.11281948,  1.72824999]])"
      ]
     },
     "execution_count": 31,
     "metadata": {},
     "output_type": "execute_result"
    }
   ],
   "source": [
    "solve_linear_parallel(train_data_full)"
   ]
  },
  {
   "cell_type": "code",
   "execution_count": 32,
   "metadata": {
    "collapsed": false
   },
   "outputs": [
    {
     "data": {
      "text/plain": [
       "array([2, 4, 2])"
      ]
     },
     "execution_count": 32,
     "metadata": {},
     "output_type": "execute_result"
    }
   ],
   "source": [
    "np.maximum([2,-3,1], [2,4,2])"
   ]
  },
  {
   "cell_type": "markdown",
   "metadata": {},
   "source": [
    "### Question 4.5"
   ]
  },
  {
   "cell_type": "code",
   "execution_count": 24,
   "metadata": {
    "collapsed": false
   },
   "outputs": [
    {
     "name": "stdout",
     "output_type": "stream",
     "text": [
      "[ 2.25  3.25  5.5 ]\n",
      "[[ 2.25  3.25  5.5 ]\n",
      " [ 2.5   2.5   5.5 ]]\n",
      "[[ 1.8    3.6    5.4  ]\n",
      " [ 2.025  2.925  4.95 ]]\n"
     ]
    }
   ],
   "source": [
    "\n",
    "# this calculate the proximal of pinball funciton \n",
    "# L_tao(y - v), where L_tao(v) = max(−(1 − τ)v, τv)\n",
    "def func_pinball(v, tao=0.9):\n",
    "    return np.maximum(-(1-tao)*v, tao*v)\n",
    "\n",
    "def prox_pinball(v, y, tao=0.9, s=1):\n",
    "    \n",
    "    length = len(v)\n",
    "    w = np.zeros(length)\n",
    "    \n",
    "    for i in range(length):\n",
    "        if v[i] > y[i] + (1 - tao)*s:\n",
    "            w[i] = v[i] + (tao - 1) * s\n",
    "        elif v[i] < y[i] - tao*s:\n",
    "            w[i] = v[i] + tao * s\n",
    "        else:\n",
    "            w[i] = y[i]\n",
    "    return w\n",
    "\n",
    "def func_pinball_multi_labels(v, tao=0.9):\n",
    "    if len(v.shape) == 1:\n",
    "        return func_pinball(v, tao)\n",
    "    return np.c_[[func_pinball(v[:,i], tao) for i in range(v.shape[1])]].T\n",
    "\n",
    "\n",
    "def prox_pinball_multi_labels(v, y, tao=0.9, s=1):\n",
    "    if len(v.shape) == 1:\n",
    "        return prox_pinball(v, y, tao, s)\n",
    "    return np.c_[[prox_pinball(v[:,i], y[:,i], tao, s) for i in range(v.shape[1])]].T\n",
    "    \n",
    "# test\n",
    "v = np.array([2, 4, 6])\n",
    "y = np.array([3.9, 1, 5.5])\n",
    "tao = 0.25\n",
    "print(prox_pinball(v, y, tao))\n",
    "\n",
    "vm = array([[ 2,  4,  6 ], [ 2.25,  3.25,  5.5 ]])\n",
    "ym = np.array([[3.9, 1, 5.5], [3.9, 1, 5.5]])\n",
    "print(prox_pinball_multi_labels(vm, ym, tao))\n",
    "print(func_pinball_multi_labels(vm))"
   ]
  },
  {
   "cell_type": "code",
   "execution_count": 25,
   "metadata": {
    "collapsed": false
   },
   "outputs": [
    {
     "data": {
      "text/plain": [
       "9.5786220303340084"
      ]
     },
     "execution_count": 25,
     "metadata": {},
     "output_type": "execute_result"
    }
   ],
   "source": [
    "np.linalg.norm(array([[ 2.25,  3.25,  5.5 ], [ 2.25,  3.25,  5.5 ]]))"
   ]
  },
  {
   "cell_type": "code",
   "execution_count": 26,
   "metadata": {
    "collapsed": false
   },
   "outputs": [
    {
     "data": {
      "text/plain": [
       "(21102, 2)"
      ]
     },
     "execution_count": 26,
     "metadata": {},
     "output_type": "execute_result"
    }
   ],
   "source": [
    "y = train_data_NotDistributed[:, 1:3]\n",
    "y.shape"
   ]
  },
  {
   "cell_type": "markdown",
   "metadata": {},
   "source": [
    "### not distributed admm"
   ]
  },
  {
   "cell_type": "code",
   "execution_count": 27,
   "metadata": {
    "collapsed": true
   },
   "outputs": [],
   "source": [
    "def derivative_f(alpha, d):\n",
    "    A = np.diag([alpha]*(d-1) + [0])\n",
    "    return A\n",
    "\n",
    "def func_f(alpha, x):\n",
    "    return alpha/2 * np.sum(x**2)\n",
    "    \n",
    "def admm_serial(M, y, f, df, g, prox_g, z0, p0, alpha=1, gamma=1, tao=0.9, run_max=100, verbose=False, call_back=None, **params):\n",
    "    d = M.shape[1]\n",
    "    if len(y.shape) == 1:\n",
    "        x = np.zeros(d)\n",
    "    else:\n",
    "        x = np.zeros((d, y.shape[1]))\n",
    "    z = z0.copy()\n",
    "    p = p0.copy()\n",
    "    A1 = 1/gamma*M.T.dot(M) + df(alpha, d)\n",
    "    A1_inv = np.linalg.inv(A1)\n",
    "    for i in range(run_max):\n",
    "\n",
    "        x_old = x.copy()\n",
    "        p_old = p.copy()\n",
    "        \n",
    "        # step 1 calculate the xk+1\n",
    "\n",
    "        b1 = 1/gamma*M.T.dot(z) - M.T.dot(p)\n",
    "        x = A1_inv.dot(b1)\n",
    "        # step 2 calculate the zk+1\n",
    "        v = gamma*(p + 1/gamma*M.dot(x))\n",
    "        z = prox_g(v, y, tao, gamma) # s = gamma ?\n",
    "        # step 3 calculate the p\n",
    "        #print(z.shape)\n",
    "        p = p + 1/gamma*(M.dot(x) - z)\n",
    "\n",
    "        obj_func = f(alpha, x) + np.sum(g(y - M.dot(x), tao))\n",
    "        # a call back function for user \n",
    "        call_values = {'x':x.copy(), 'z':z.copy(), 'p': p.copy(), 'obj':obj_func}\n",
    "        call_back(call_values, **params)\n",
    "        \n",
    "        # calculate the distance to stop admm\n",
    "        dis = np.linalg.norm(x-x_old)+np.linalg.norm(p - p_old)\n",
    "        if verbose:\n",
    "            print(\"run time =\", i, \"the value of object function is,\", obj_func, \"distance is\", dis)\n",
    "            \n",
    "        if dis < 1e-3:\n",
    "            print(\"executed\", i, \" times x=\", x)\n",
    "            break\n",
    "    "
   ]
  },
  {
   "cell_type": "code",
   "execution_count": 29,
   "metadata": {
    "collapsed": true
   },
   "outputs": [],
   "source": [
    "import time \n",
    "# train_data_NotDistributed is the trainign data set \n",
    "n_obs, n_features = train_data_NotDistributed.shape\n",
    "M = np.c_[train_data_NotDistributed[:, 3:], np.array([1]*n_obs)]\n",
    "#y = train_data_NotDistributed[:, 2]\n",
    "y = train_data_NotDistributed[:, 1:3]\n",
    "f = func_f\n",
    "df = derivative_f\n",
    "g = func_pinball_multi_labels\n",
    "prox_g = prox_pinball_multi_labels\n",
    "z0 = np.zeros((n_obs,2))\n",
    "p0 = np.zeros((n_obs,2))\n",
    "\n",
    "history = {st: [] for st in ['obj', 'x', 'p', 'z']}\n",
    "def callback(values, history):\n",
    "    history['obj'].append(values['obj'])\n",
    "    history['x'].append(values['x'])\n",
    "    history['p'].append(values['p'])\n",
    "    history['z'].append(values['z'])\n",
    "\n",
    "# we show that the distance (x, p) can be smaller than 1e-3\n",
    "t1 = time.time()\n",
    "admm_serial(M, y, f, df, g, prox_g, z0, p0, alpha=1, gamma=1, \n",
    "            tao=0.9, run_max=100, verbose=0, call_back=callback, history=history)\n",
    "t2 = time.time()\n",
    "t_serial = t2 - t1"
   ]
  },
  {
   "cell_type": "code",
   "execution_count": 30,
   "metadata": {
    "collapsed": false
   },
   "outputs": [
    {
     "name": "stdout",
     "output_type": "stream",
     "text": [
      "runtime : 3.719483 s\n"
     ]
    }
   ],
   "source": [
    "print('runtime : %f s'%t_serial)"
   ]
  },
  {
   "cell_type": "code",
   "execution_count": 31,
   "metadata": {
    "collapsed": true
   },
   "outputs": [],
   "source": [
    "import matplotlib.pyplot as plt\n",
    "\n",
    "N = len(history['z'])\n",
    "history['Mw'] = list(map(lambda x: M.dot(x), history['x']))\n",
    "history['|Mw-z|'] = [np.linalg.norm(history['Mw'][i] - history['z'][i]) for i in range(N)]"
   ]
  },
  {
   "cell_type": "code",
   "execution_count": 32,
   "metadata": {
    "collapsed": false
   },
   "outputs": [
    {
     "data": {
      "text/plain": [
       "<matplotlib.text.Text at 0x7f08a5240190>"
      ]
     },
     "execution_count": 32,
     "metadata": {},
     "output_type": "execute_result"
    },
    {
     "data": {
      "image/png": "[encoded data removed]",
      "text/plain": [
       "<matplotlib.figure.Figure at 0x7f08a53cc7d0>"
      ]
     },
     "metadata": {},
     "output_type": "display_data"
    }
   ],
   "source": [
    "plt.figure(figsize=(10,5))\n",
    "plt.subplot(121)\n",
    "plt.plot(history['|Mw-z|'])\n",
    "plt.xlabel('iteration')\n",
    "plt.ylabel('|Mw-z|')\n",
    "plt.title('serial admm')\n",
    "plt.subplot(122)\n",
    "plt.plot(history['obj'])\n",
    "plt.xlabel('iteration')\n",
    "plt.ylabel('objective')\n",
    "plt.title('serial admm')"
   ]
  },
  {
   "cell_type": "markdown",
   "metadata": {},
   "source": [
    "### Question 5 \n",
    "\n",
    "### try a parallel one"
   ]
  },
  {
   "cell_type": "code",
   "execution_count": 131,
   "metadata": {
    "collapsed": false
   },
   "outputs": [
    {
     "data": {
      "text/plain": [
       "StorageLevel(False, False, False, False, 1)"
      ]
     },
     "execution_count": 131,
     "metadata": {},
     "output_type": "execute_result"
    }
   ],
   "source": [
    "train_data_full.getStorageLevel()"
   ]
  },
  {
   "cell_type": "markdown",
   "metadata": {},
   "source": [
    "### implement a parallel implementation"
   ]
  },
  {
   "cell_type": "code",
   "execution_count": 160,
   "metadata": {
    "collapsed": true
   },
   "outputs": [],
   "source": [
    "# distributed one, use train_data rrd\n",
    "from pyspark import StorageLevel\n",
    "\n",
    "def admm_dist(train_data, n_class, f, df, g, prox_g, alpha=1, gamma=1, tao=0.9, run_max=100, verbose=False, call_back=None, **params):\n",
    "    \n",
    "    d = len(train_data.first()[3:]) + 1\n",
    "    \n",
    "    if n_class == 1:\n",
    "        w = np.zeros(d)\n",
    "    else:\n",
    "        w = np.zeros((d, n_class))\n",
    "\n",
    "    train_data_ = train_data.map(lambda row: { 'y' : row[1:1+n_class],\n",
    "                                           'x' : np.concatenate([row[1+n_class:], [1]]),\n",
    "                                           'z' : np.zeros(n_class),\n",
    "                                           'mu' : np.zeros(n_class)\n",
    "                                      })\n",
    "    \n",
    "    objs = []\n",
    "    errs = []\n",
    "    \n",
    "    start = time.time()\n",
    "    A1 = train_data_.map(lambda row: 1/gamma*np.outer(row['x'], row['x'])).treeReduce(lambda x, y: x+y) \n",
    "    A1 += df(alpha, d)\n",
    "    A1_inv = np.linalg.inv(A1)\n",
    "    \n",
    "    print \"the inverse function got, time used ...\", time.time() - start\n",
    "    \n",
    "    for i in range(run_max):\n",
    "        # monitor the time consuming\n",
    "        start = time.time()\n",
    "        # use memory and drive for storage: full data set too large for cache()\n",
    "        train_data_.persist(storageLevel=StorageLevel(True, True, False, False, 1))\n",
    "        b1 = train_data_.map(lambda row: 1/gamma*np.outer(row['x'], row['z']-row['mu'])).reduce(lambda x, y: x+y)\n",
    "        w = A1_inv.dot(b1)        \n",
    "        \n",
    "        print \"calculate b1... time used is\", time.time() - start\n",
    "\n",
    "        start = time.time()\n",
    "        \n",
    "        train_data_ = train_data_.map(lambda row: {\n",
    "                                        'y' : row['y'],\n",
    "                                        'x' : row['x'],\n",
    "                                        'z' : prox_g(gamma * row['mu'] + row['x'].dot(w), row['y'],tao,gamma),\n",
    "                                        'mu' : row['mu']\n",
    "                                      })\n",
    "        \n",
    "        train_data_ = train_data_.map(lambda row: { \n",
    "                                        'y' : row['y'],\n",
    "                                        'x' : row['x'],\n",
    "                                        'z' : row['z'],\n",
    "                                        'mu' : row['mu']+1./gamma*(row['x'].dot(w)-row['z'])\n",
    "                                      })\n",
    "        \n",
    "        \n",
    "            \n",
    "        obj_func = train_data_.map(lambda row: np.sum(g(row['y']-row['x'].dot(w),tao))).reduce(lambda x,y: x+y) + f(alpha, w)\n",
    "        err = np.sqrt(train_data_.map(lambda row: (row['x'].dot(w) - row['z'])**2).reduce(lambda x,y: x+y))\n",
    "        \n",
    "        print \"time for update object_function, errors used is\", time.time() - start\n",
    "        \n",
    "        if verbose:\n",
    "            print \"run time =\", i, \"\\n\\t the value of object function is,\", obj_func, \"\\n\\t regression |Mw - z| is\", err\n",
    "            \n",
    "        objs.append(obj_func)\n",
    "        errs.append(err)\n",
    "                \n",
    "    return objs, errs, w, train_data_\n"
   ]
  },
  {
   "cell_type": "code",
   "execution_count": 150,
   "metadata": {
    "collapsed": false
   },
   "outputs": [
    {
     "data": {
      "text/plain": [
       "(PythonRDD[2131] at RDD at PythonRDD.scala:48,\n",
       " PythonRDD[2132] at RDD at PythonRDD.scala:48)"
      ]
     },
     "execution_count": 150,
     "metadata": {},
     "output_type": "execute_result"
    }
   ],
   "source": [
    "train_data, train_data_full"
   ]
  },
  {
   "cell_type": "code",
   "execution_count": 169,
   "metadata": {
    "collapsed": false,
    "scrolled": true
   },
   "outputs": [
    {
     "name": "stdout",
     "output_type": "stream",
     "text": [
      "the inverse function got, time used ... 20.2010672092\n",
      "calculate b1... time used is 0.583544969559\n",
      "time for update object_function, errors used is 0.607028007507\n",
      "run time = 0 \n",
      "\t the value of object function is, 18341.830288 \n",
      "\t regression |Mw - z| is [ 68.6803954   74.88417741]\n",
      "calculate b1... time used is 0.588449954987\n",
      "time for update object_function, errors used is 0.635586023331\n",
      "run time = 1 \n",
      "\t the value of object function is, 7192.36973606 \n",
      "\t regression |Mw - z| is [ 26.50251552  41.47839169]\n",
      "calculate b1... time used is 0.579432010651\n",
      "time for update object_function, errors used is 0.656181097031\n",
      "run time = 2 \n",
      "\t the value of object function is, 5944.21198891 \n",
      "\t regression |Mw - z| is [ 18.95042739  19.20898114]\n",
      "calculate b1... time used is 0.574604988098\n",
      "time for update object_function, errors used is 0.623108863831\n",
      "run time = 3 \n",
      "\t the value of object function is, 5406.34297651 \n",
      "\t regression |Mw - z| is [ 17.55501897  15.47612399]\n",
      "calculate b1... time used is 0.607956886292\n",
      "time for update object_function, errors used is 0.595333099365\n",
      "run time = 4 \n",
      "\t the value of object function is, 5198.1323636 \n",
      "\t regression |Mw - z| is [ 13.9791331   10.21711311]\n",
      "calculate b1... time used is 0.584242105484\n",
      "time for update object_function, errors used is 0.602748155594\n",
      "run time = 5 \n",
      "\t the value of object function is, 5097.81460011 \n",
      "\t regression |Mw - z| is [ 9.14774629  7.55978514]\n",
      "calculate b1... time used is 0.584468841553\n",
      "time for update object_function, errors used is 0.622804880142\n",
      "run time = 6 \n",
      "\t the value of object function is, 5065.34756018 \n",
      "\t regression |Mw - z| is [ 7.48775997  6.39777044]\n",
      "calculate b1... time used is 0.58798289299\n",
      "time for update object_function, errors used is 0.604151964188\n",
      "run time = 7 \n",
      "\t the value of object function is, 5047.17069289 \n",
      "\t regression |Mw - z| is [ 6.42997094  5.17192795]\n",
      "calculate b1... time used is 0.567420959473\n",
      "time for update object_function, errors used is 0.611346960068\n",
      "run time = 8 \n",
      "\t the value of object function is, 5025.09628189 \n",
      "\t regression |Mw - z| is [ 5.57258489  3.65568903]\n",
      "calculate b1... time used is 0.576821804047\n",
      "time for update object_function, errors used is 0.654589891434\n",
      "run time = 9 \n",
      "\t the value of object function is, 5006.07974593 \n",
      "\t regression |Mw - z| is [ 4.68313825  3.11986358]\n",
      "calculate b1... time used is 0.600619077682\n",
      "time for update object_function, errors used is 0.583101987839\n",
      "run time = 10 \n",
      "\t the value of object function is, 4995.10256494 \n",
      "\t regression |Mw - z| is [ 3.88156157  3.06025146]\n",
      "calculate b1... time used is 0.575609922409\n",
      "time for update object_function, errors used is 0.615026950836\n",
      "run time = 11 \n",
      "\t the value of object function is, 4988.78364604 \n",
      "\t regression |Mw - z| is [ 3.22132042  3.24681884]\n",
      "calculate b1... time used is 0.588584184647\n",
      "time for update object_function, errors used is 0.63871884346\n",
      "run time = 12 \n",
      "\t the value of object function is, 4984.99630353 \n",
      "\t regression |Mw - z| is [ 2.59026827  3.16500558]\n",
      "calculate b1... time used is 0.572089910507\n",
      "time for update object_function, errors used is 0.574811935425\n",
      "run time = 13 \n",
      "\t the value of object function is, 4980.63759812 \n",
      "\t regression |Mw - z| is [ 2.01100619  2.94480769]\n",
      "calculate b1... time used is 0.579908847809\n",
      "time for update object_function, errors used is 0.599726915359\n",
      "run time = 14 \n",
      "\t the value of object function is, 4975.25560724 \n",
      "\t regression |Mw - z| is [ 1.68301607  2.56568754]\n",
      "calculate b1... time used is 0.567871809006\n",
      "time for update object_function, errors used is 0.619037866592\n",
      "run time = 15 \n",
      "\t the value of object function is, 4970.94511075 \n",
      "\t regression |Mw - z| is [ 1.47933208  2.33198793]\n",
      "calculate b1... time used is 0.596343040466\n",
      "time for update object_function, errors used is 0.667369842529\n",
      "run time = 16 \n",
      "\t the value of object function is, 4967.46611545 \n",
      "\t regression |Mw - z| is [ 1.34200541  2.10134005]\n",
      "calculate b1... time used is 0.586772918701\n",
      "time for update object_function, errors used is 0.575289011002\n",
      "run time = 17 \n",
      "\t the value of object function is, 4964.71009905 \n",
      "\t regression |Mw - z| is [ 1.1938835   1.97591956]\n",
      "calculate b1... time used is 0.584745883942\n",
      "time for update object_function, errors used is 0.610947847366\n",
      "run time = 18 \n",
      "\t the value of object function is, 4962.17732858 \n",
      "\t regression |Mw - z| is [ 1.12175386  1.84661801]\n",
      "calculate b1... time used is 0.607991933823\n",
      "time for update object_function, errors used is 0.595543146133\n",
      "run time = 19 \n",
      "\t the value of object function is, 4959.48983168 \n",
      "\t regression |Mw - z| is [ 1.05123696  1.71315807]\n",
      "calculate b1... time used is 0.583059072495\n",
      "time for update object_function, errors used is 0.751982927322\n",
      "run time = 20 \n",
      "\t the value of object function is, 4957.15866829 \n",
      "\t regression |Mw - z| is [ 0.96357394  1.60273825]\n",
      "calculate b1... time used is 0.584279060364\n",
      "time for update object_function, errors used is 0.627580165863\n",
      "run time = 21 \n",
      "\t the value of object function is, 4955.40107911 \n",
      "\t regression |Mw - z| is [ 0.87823289  1.48395481]\n",
      "calculate b1... time used is 0.586807966232\n",
      "time for update object_function, errors used is 0.575783967972\n",
      "run time = 22 \n",
      "\t the value of object function is, 4954.35258422 \n",
      "\t regression |Mw - z| is [ 0.79157677  1.39151327]\n",
      "calculate b1... time used is 0.624387979507\n",
      "time for update object_function, errors used is 0.599103927612\n",
      "run time = 23 \n",
      "\t the value of object function is, 4953.7901037 \n",
      "\t regression |Mw - z| is [ 0.7073157   1.33920835]\n",
      "calculate b1... time used is 0.591130018234\n",
      "time for update object_function, errors used is 0.607662916183\n",
      "run time = 24 \n",
      "\t the value of object function is, 4953.53440034 \n",
      "\t regression |Mw - z| is [ 0.66789254  1.31702468]\n",
      "calculate b1... time used is 0.56805896759\n",
      "time for update object_function, errors used is 0.687362909317\n",
      "run time = 25 \n",
      "\t the value of object function is, 4953.22655258 \n",
      "\t regression |Mw - z| is [ 0.62863528  1.29911086]\n",
      "calculate b1... time used is 0.583657979965\n",
      "time for update object_function, errors used is 0.619710206985\n",
      "run time = 26 \n",
      "\t the value of object function is, 4952.71280759 \n",
      "\t regression |Mw - z| is [ 0.59239667  1.25394132]\n",
      "calculate b1... time used is 0.595654010773\n",
      "time for update object_function, errors used is 0.591067075729\n",
      "run time = 27 \n",
      "\t the value of object function is, 4951.90797966 \n",
      "\t regression |Mw - z| is [ 0.56570922  1.16430616]\n",
      "calculate b1... time used is 0.572274923325\n",
      "time for update object_function, errors used is 0.62277007103\n",
      "run time = 28 \n",
      "\t the value of object function is, 4950.88819047 \n",
      "\t regression |Mw - z| is [ 0.53407538  1.05133527]\n",
      "calculate b1... time used is 0.683598995209\n",
      "time for update object_function, errors used is 0.603731155396\n",
      "run time = 29 \n",
      "\t the value of object function is, 4949.70885903 \n",
      "\t regression |Mw - z| is [ 0.51614898  0.96038487]\n",
      "calculate b1... time used is 0.655483007431\n",
      "time for update object_function, errors used is 0.595921039581\n",
      "run time = 30 \n",
      "\t the value of object function is, 4948.4485665 \n",
      "\t regression |Mw - z| is [ 0.49837436  0.8461997 ]\n",
      "calculate b1... time used is 0.635708093643\n",
      "time for update object_function, errors used is 0.675801038742\n",
      "run time = 31 \n",
      "\t the value of object function is, 4947.22673373 \n",
      "\t regression |Mw - z| is [ 0.46038823  0.7717388 ]\n",
      "calculate b1... time used is 0.67497587204\n",
      "time for update object_function, errors used is 0.64044213295\n",
      "run time = 32 \n",
      "\t the value of object function is, 4946.09505072 \n",
      "\t regression |Mw - z| is [ 0.43693036  0.69147197]\n",
      "calculate b1... time used is 0.594946861267\n",
      "time for update object_function, errors used is 0.671607017517\n",
      "run time = 33 \n",
      "\t the value of object function is, 4945.02313589 \n",
      "\t regression |Mw - z| is [ 0.41285148  0.62310265]\n",
      "calculate b1... time used is 0.599296092987\n",
      "time for update object_function, errors used is 0.651592969894\n",
      "run time = 34 \n",
      "\t the value of object function is, 4944.03572689 \n",
      "\t regression |Mw - z| is [ 0.38666066  0.55501098]\n",
      "calculate b1... time used is 0.635730028152\n",
      "time for update object_function, errors used is 0.644130945206\n",
      "run time = 35 \n",
      "\t the value of object function is, 4943.16277793 \n",
      "\t regression |Mw - z| is [ 0.34564566  0.50950839]\n",
      "calculate b1... time used is 0.607866048813\n",
      "time for update object_function, errors used is 0.695556163788\n",
      "run time = 36 \n",
      "\t the value of object function is, 4942.4656317 \n",
      "\t regression |Mw - z| is [ 0.32167496  0.49223917]\n",
      "calculate b1... time used is 0.595667123795\n",
      "time for update object_function, errors used is 0.600335121155\n",
      "run time = 37 \n",
      "\t the value of object function is, 4941.92624776 \n",
      "\t regression |Mw - z| is [ 0.30078748  0.49420739]\n",
      "calculate b1... time used is 0.6231508255\n",
      "time for update object_function, errors used is 0.603766918182\n",
      "run time = 38 \n",
      "\t the value of object function is, 4941.5593093 \n",
      "\t regression |Mw - z| is [ 0.28409507  0.45716567]\n",
      "calculate b1... time used is 0.591070890427\n",
      "time for update object_function, errors used is 0.65632390976\n",
      "run time = 39 \n",
      "\t the value of object function is, 4941.37035406 \n",
      "\t regression |Mw - z| is [ 0.26845     0.44899304]\n",
      "calculate b1... time used is 0.619040966034\n",
      "time for update object_function, errors used is 0.579571008682\n",
      "run time = 40 \n",
      "\t the value of object function is, 4941.34318493 \n",
      "\t regression |Mw - z| is [ 0.25290717  0.46039616]\n",
      "calculate b1... time used is 0.595594167709\n",
      "time for update object_function, errors used is 0.642592906952\n",
      "run time = 41 \n",
      "\t the value of object function is, 4941.39567792 \n",
      "\t regression |Mw - z| is [ 0.23960735  0.47749295]\n",
      "calculate b1... time used is 0.584239006042\n",
      "time for update object_function, errors used is 0.603233098984\n",
      "run time = 42 \n",
      "\t the value of object function is, 4941.50742059 \n",
      "\t regression |Mw - z| is [ 0.22871106  0.49150707]\n",
      "calculate b1... time used is 0.624123811722\n",
      "time for update object_function, errors used is 0.599498987198\n",
      "run time = 43 \n",
      "\t the value of object function is, 4941.65966588 \n",
      "\t regression |Mw - z| is [ 0.22715184  0.5089684 ]\n",
      "calculate b1... time used is 0.579565048218\n",
      "time for update object_function, errors used is 0.647886991501\n",
      "run time = 44 \n",
      "\t the value of object function is, 4941.815991 \n",
      "\t regression |Mw - z| is [ 0.22719553  0.52739987]\n",
      "calculate b1... time used is 0.600228786469\n",
      "time for update object_function, errors used is 0.635223865509\n",
      "run time = 45 \n",
      "\t the value of object function is, 4941.95916608 \n",
      "\t regression |Mw - z| is [ 0.22002257  0.54532889]\n",
      "calculate b1... time used is 0.60341501236\n",
      "time for update object_function, errors used is 0.648265123367\n",
      "run time = 46 \n",
      "\t the value of object function is, 4942.04568502 \n",
      "\t regression |Mw - z| is [ 0.21703647  0.54770951]\n",
      "calculate b1... time used is 0.601525068283\n",
      "time for update object_function, errors used is 0.612090110779\n",
      "run time = 47 \n",
      "\t the value of object function is, 4942.07113678 \n",
      "\t regression |Mw - z| is [ 0.21754604  0.55589256]\n",
      "calculate b1... time used is 0.59588599205\n",
      "time for update object_function, errors used is 0.606841087341\n",
      "run time = 48 \n",
      "\t the value of object function is, 4942.040278 \n",
      "\t regression |Mw - z| is [ 0.21287923  0.53609041]\n",
      "calculate b1... time used is 0.632466077805\n",
      "time for update object_function, errors used is 0.655049085617\n",
      "run time = 49 \n",
      "\t the value of object function is, 4941.95121445 \n",
      "\t regression |Mw - z| is [ 0.20376457  0.52410205]\n",
      "calculate b1... time used is 0.571618080139\n",
      "time for update object_function, errors used is 0.60374212265\n",
      "run time = 50 \n",
      "\t the value of object function is, 4941.80298662 \n",
      "\t regression |Mw - z| is [ 0.19990337  0.50439635]\n",
      "calculate b1... time used is 0.594717979431\n",
      "time for update object_function, errors used is 0.615904808044\n",
      "run time = 51 \n",
      "\t the value of object function is, 4941.61382705 \n",
      "\t regression |Mw - z| is [ 0.19810916  0.4794025 ]\n",
      "calculate b1... time used is 0.588217973709\n",
      "time for update object_function, errors used is 0.604479074478\n",
      "run time = 52 \n",
      "\t the value of object function is, 4941.39214369 \n",
      "\t regression |Mw - z| is [ 0.19544127  0.45979933]\n",
      "calculate b1... time used is 0.619268894196\n",
      "time for update object_function, errors used is 0.678153991699\n",
      "run time = 53 \n",
      "\t the value of object function is, 4941.16342255 \n",
      "\t regression |Mw - z| is [ 0.192543   0.4402262]\n",
      "calculate b1... time used is 0.568594932556\n",
      "time for update object_function, errors used is 0.591508865356\n",
      "run time = 54 \n",
      "\t the value of object function is, 4940.94177222 \n",
      "\t regression |Mw - z| is [ 0.18338813  0.40773009]\n",
      "calculate b1... time used is 0.584558010101\n",
      "time for update object_function, errors used is 0.631413936615\n",
      "run time = 55 \n",
      "\t the value of object function is, 4940.73046296 \n",
      "\t regression |Mw - z| is [ 0.17164385  0.39341599]\n",
      "calculate b1... time used is 0.61064696312\n",
      "time for update object_function, errors used is 0.599768877029\n",
      "run time = 56 \n",
      "\t the value of object function is, 4940.53713016 \n",
      "\t regression |Mw - z| is [ 0.1635541  0.3673894]\n",
      "calculate b1... time used is 0.608248949051\n",
      "time for update object_function, errors used is 0.638864040375\n",
      "run time = 57 \n",
      "\t the value of object function is, 4940.36874062 \n",
      "\t regression |Mw - z| is [ 0.15538719  0.35889825]\n",
      "calculate b1... time used is 0.596472978592\n",
      "time for update object_function, errors used is 0.606831073761\n",
      "run time = 58 \n",
      "\t the value of object function is, 4940.22182931 \n",
      "\t regression |Mw - z| is [ 0.14962242  0.3518784 ]\n",
      "calculate b1... time used is 0.57622385025\n",
      "time for update object_function, errors used is 0.579412937164\n",
      "run time = 59 \n",
      "\t the value of object function is, 4940.11309191 \n",
      "\t regression |Mw - z| is [ 0.14392223  0.33886244]\n",
      "calculate b1... time used is 0.599790096283\n",
      "time for update object_function, errors used is 0.607846975327\n",
      "run time = 60 \n",
      "\t the value of object function is, 4940.02012478 \n",
      "\t regression |Mw - z| is [ 0.13135233  0.33893869]\n",
      "calculate b1... time used is 0.606699943542\n",
      "time for update object_function, errors used is 0.668004989624\n",
      "run time = 61 \n",
      "\t the value of object function is, 4939.93971988 \n",
      "\t regression |Mw - z| is [ 0.12481807  0.3292874 ]\n",
      "calculate b1... time used is 0.580202817917\n",
      "time for update object_function, errors used is 0.63511800766\n",
      "run time = 62 \n",
      "\t the value of object function is, 4939.87337987 \n",
      "\t regression |Mw - z| is [ 0.11748692  0.33020158]\n",
      "calculate b1... time used is 0.584252119064\n",
      "time for update object_function, errors used is 0.590749025345\n",
      "run time = 63 \n",
      "\t the value of object function is, 4939.80406527 \n",
      "\t regression |Mw - z| is [ 0.10934377  0.32507018]\n",
      "calculate b1... time used is 0.579545974731\n",
      "time for update object_function, errors used is 0.624287128448\n",
      "run time = 64 \n",
      "\t the value of object function is, 4939.74054248 \n",
      "\t regression |Mw - z| is [ 0.10465312  0.32214497]\n",
      "calculate b1... time used is 0.616093873978\n",
      "time for update object_function, errors used is 0.638831138611\n",
      "run time = 65 \n",
      "\t the value of object function is, 4939.6883842 \n",
      "\t regression |Mw - z| is [ 0.10002232  0.32069632]\n",
      "calculate b1... time used is 0.592190980911\n",
      "time for update object_function, errors used is 0.647194862366\n",
      "run time = 66 \n",
      "\t the value of object function is, 4939.63752124 \n",
      "\t regression |Mw - z| is [ 0.09673598  0.3165674 ]\n",
      "calculate b1... time used is 0.571916103363\n",
      "time for update object_function, errors used is 0.602985143661\n",
      "run time = 67 \n",
      "\t the value of object function is, 4939.58478784 \n",
      "\t regression |Mw - z| is [ 0.09193601  0.31800539]\n",
      "calculate b1... time used is 0.592483997345\n",
      "time for update object_function, errors used is 0.595369100571\n",
      "run time = 68 \n",
      "\t the value of object function is, 4939.53116378 \n",
      "\t regression |Mw - z| is [ 0.09145594  0.31315841]\n",
      "calculate b1... time used is 0.608501911163\n",
      "time for update object_function, errors used is 0.619162797928\n",
      "run time = 69 \n",
      "\t the value of object function is, 4939.47324442 \n",
      "\t regression |Mw - z| is [ 0.09001488  0.30844254]\n",
      "calculate b1... time used is 0.567771196365\n",
      "time for update object_function, errors used is 0.632050991058\n",
      "run time = 70 \n",
      "\t the value of object function is, 4939.41744712 \n",
      "\t regression |Mw - z| is [ 0.08710086  0.29647119]\n",
      "calculate b1... time used is 0.639218091965\n",
      "time for update object_function, errors used is 0.699280977249\n",
      "run time = 71 \n",
      "\t the value of object function is, 4939.36172888 \n",
      "\t regression |Mw - z| is [ 0.08810609  0.28828299]\n",
      "calculate b1... time used is 0.631248950958\n",
      "time for update object_function, errors used is 0.583882808685\n",
      "run time = 72 \n",
      "\t the value of object function is, 4939.30500946 \n",
      "\t regression |Mw - z| is [ 0.08864686  0.27284283]\n",
      "calculate b1... time used is 0.598333120346\n",
      "time for update object_function, errors used is 0.632366895676\n",
      "run time = 73 \n",
      "\t the value of object function is, 4939.24739132 \n",
      "\t regression |Mw - z| is [ 0.08905813  0.25682832]\n",
      "calculate b1... time used is 0.575576066971\n",
      "time for update object_function, errors used is 0.608113050461\n",
      "run time = 74 \n",
      "\t the value of object function is, 4939.19115607 \n",
      "\t regression |Mw - z| is [ 0.08960664  0.24703721]\n",
      "calculate b1... time used is 0.586649894714\n",
      "time for update object_function, errors used is 0.607665061951\n",
      "run time = 75 \n",
      "\t the value of object function is, 4939.13269062 \n",
      "\t regression |Mw - z| is [ 0.08817746  0.23491681]\n",
      "calculate b1... time used is 0.587816953659\n",
      "time for update object_function, errors used is 0.636109113693\n",
      "run time = 76 \n",
      "\t the value of object function is, 4939.07246876 \n",
      "\t regression |Mw - z| is [ 0.08785801  0.22480502]\n",
      "calculate b1... time used is 0.602798938751\n",
      "time for update object_function, errors used is 0.603631973267\n",
      "run time = 77 \n",
      "\t the value of object function is, 4939.0174627 \n",
      "\t regression |Mw - z| is [ 0.08789899  0.2177248 ]\n",
      "calculate b1... time used is 0.621311187744\n",
      "time for update object_function, errors used is 0.634119033813\n",
      "run time = 78 \n",
      "\t the value of object function is, 4938.9690439 \n",
      "\t regression |Mw - z| is [ 0.08649948  0.20728804]\n",
      "calculate b1... time used is 0.588223218918\n",
      "time for update object_function, errors used is 0.656026124954\n",
      "run time = 79 \n",
      "\t the value of object function is, 4938.91902254 \n",
      "\t regression |Mw - z| is [ 0.08717908  0.1955847 ]\n",
      "calculate b1... time used is 0.602061986923\n",
      "time for update object_function, errors used is 0.643517017365\n",
      "run time = 80 \n",
      "\t the value of object function is, 4938.86753336 \n",
      "\t regression |Mw - z| is [ 0.08813958  0.19063661]\n",
      "calculate b1... time used is 0.580327987671\n",
      "time for update object_function, errors used is 0.648144006729\n",
      "run time = 81 \n",
      "\t the value of object function is, 4938.8130587 \n",
      "\t regression |Mw - z| is [ 0.08374685  0.17883144]\n",
      "calculate b1... time used is 0.619004011154\n",
      "time for update object_function, errors used is 0.594735860825\n",
      "run time = 82 \n",
      "\t the value of object function is, 4938.75913901 \n",
      "\t regression |Mw - z| is [ 0.08481132  0.16873737]\n",
      "calculate b1... time used is 0.567921161652\n",
      "time for update object_function, errors used is 0.616127967834\n",
      "run time = 83 \n",
      "\t the value of object function is, 4938.70208348 \n",
      "\t regression |Mw - z| is [ 0.08634583  0.16250776]\n",
      "calculate b1... time used is 0.571077108383\n",
      "time for update object_function, errors used is 0.592055082321\n",
      "run time = 84 \n",
      "\t the value of object function is, 4938.64335652 \n",
      "\t regression |Mw - z| is [ 0.08553945  0.15733103]\n",
      "calculate b1... time used is 0.596652030945\n",
      "time for update object_function, errors used is 0.610779047012\n",
      "run time = 85 \n",
      "\t the value of object function is, 4938.58173728 \n",
      "\t regression |Mw - z| is [ 0.08366331  0.15451655]\n",
      "calculate b1... time used is 0.580487966537\n",
      "time for update object_function, errors used is 0.642549037933\n",
      "run time = 86 \n",
      "\t the value of object function is, 4938.51961945 \n",
      "\t regression |Mw - z| is [ 0.08454048  0.14943236]\n",
      "calculate b1... time used is 0.579229831696\n",
      "time for update object_function, errors used is 0.607573032379\n",
      "run time = 87 \n",
      "\t the value of object function is, 4938.4572868 \n",
      "\t regression |Mw - z| is [ 0.08557851  0.13983237]\n",
      "calculate b1... time used is 0.572947025299\n",
      "time for update object_function, errors used is 0.623669862747\n",
      "run time = 88 \n",
      "\t the value of object function is, 4938.39546159 \n",
      "\t regression |Mw - z| is [ 0.08530714  0.13415654]\n",
      "calculate b1... time used is 0.618679046631\n",
      "time for update object_function, errors used is 0.611608982086\n",
      "run time = 89 \n",
      "\t the value of object function is, 4938.33114282 \n",
      "\t regression |Mw - z| is [ 0.08322597  0.13299881]\n",
      "calculate b1... time used is 0.77179813385\n",
      "time for update object_function, errors used is 0.650924921036\n",
      "run time = 90 \n",
      "\t the value of object function is, 4938.26561242 \n",
      "\t regression |Mw - z| is [ 0.08167807  0.12996266]\n",
      "calculate b1... time used is 0.574088096619\n",
      "time for update object_function, errors used is 0.604812860489\n",
      "run time = 91 \n",
      "\t the value of object function is, 4938.20193925 \n",
      "\t regression |Mw - z| is [ 0.08106754  0.12550082]\n",
      "calculate b1... time used is 0.614726066589\n",
      "time for update object_function, errors used is 0.603919029236\n",
      "run time = 92 \n",
      "\t the value of object function is, 4938.13978709 \n",
      "\t regression |Mw - z| is [ 0.08093202  0.12151647]\n",
      "calculate b1... time used is 0.594980955124\n",
      "time for update object_function, errors used is 0.624222040176\n",
      "run time = 93 \n",
      "\t the value of object function is, 4938.08204827 \n",
      "\t regression |Mw - z| is [ 0.08015802  0.11635415]\n",
      "calculate b1... time used is 0.590481042862\n",
      "time for update object_function, errors used is 0.656039953232\n",
      "run time = 94 \n",
      "\t the value of object function is, 4938.03056896 \n",
      "\t regression |Mw - z| is [ 0.07976225  0.11432019]\n",
      "calculate b1... time used is 0.603161096573\n",
      "time for update object_function, errors used is 0.62854218483\n",
      "run time = 95 \n",
      "\t the value of object function is, 4937.98417682 \n",
      "\t regression |Mw - z| is [ 0.0757807   0.11208156]\n",
      "calculate b1... time used is 0.606067180634\n",
      "time for update object_function, errors used is 0.605063199997\n",
      "run time = 96 \n",
      "\t the value of object function is, 4937.9408178 \n",
      "\t regression |Mw - z| is [ 0.07432715  0.10582064]\n",
      "calculate b1... time used is 0.60611987114\n",
      "time for update object_function, errors used is 0.579395055771\n",
      "run time = 97 \n",
      "\t the value of object function is, 4937.90315511 \n",
      "\t regression |Mw - z| is [ 0.07379892  0.103832  ]\n",
      "calculate b1... time used is 0.600707054138\n",
      "time for update object_function, errors used is 0.615298986435\n",
      "run time = 98 \n",
      "\t the value of object function is, 4937.86646904 \n",
      "\t regression |Mw - z| is [ 0.0733177   0.10164636]\n",
      "calculate b1... time used is 0.596086025238\n",
      "time for update object_function, errors used is 0.622811079025\n",
      "run time = 99 \n",
      "\t the value of object function is, 4937.83297727 \n",
      "\t regression |Mw - z| is [ 0.07175692  0.09688842]\n",
      "runtime: 146.648202 s\n"
     ]
    }
   ],
   "source": [
    "# run on small data set for 20 times\n",
    "t1 = time.time()\n",
    "#objs_dist, errrs, \n",
    "objs_dist, errs_dist, w_dist, train_data_dist = admm_dist(train_data, 2, func_f, derivative_f, func_pinball, prox_pinball, alpha=1, gamma=1, tao=0.9, run_max=100, verbose=1)        \n",
    "t2 = time.time()\n",
    "t_dist = t2 - t1\n",
    "print('runtime: %f s'%t_dist)"
   ]
  },
  {
   "cell_type": "code",
   "execution_count": 170,
   "metadata": {
    "collapsed": false
   },
   "outputs": [
    {
     "data": {
      "text/plain": [
       "<matplotlib.text.Text at 0x7f0899edefd0>"
      ]
     },
     "execution_count": 170,
     "metadata": {},
     "output_type": "execute_result"
    },
    {
     "data": {
      "image/png": "[encoded data removed]",
      "text/plain": [
       "<matplotlib.figure.Figure at 0x7f0899fa3d90>"
      ]
     },
     "metadata": {},
     "output_type": "display_data"
    }
   ],
   "source": [
    "plt.figure(figsize=(10,5))\n",
    "plt.subplot(121)\n",
    "plt.plot(np.sum(errs_dist, axis=1))\n",
    "plt.xlabel('iteration')\n",
    "plt.ylabel('|Mw-z|')\n",
    "plt.title('distributed admm')\n",
    "plt.subplot(122)\n",
    "plt.plot(objs_dist)\n",
    "plt.xlabel('iteration')\n",
    "plt.ylabel('objective')\n",
    "plt.title('distributed admm')"
   ]
  },
  {
   "cell_type": "code",
   "execution_count": 171,
   "metadata": {
    "collapsed": false
   },
   "outputs": [
    {
     "name": "stdout",
     "output_type": "stream",
     "text": [
      "w of distributed admm\n",
      "[[ 0.39584625  0.43334486]\n",
      " [ 0.15965433  0.33857284]\n",
      " [ 1.40117967  1.00377232]\n",
      " [-1.515373   -0.37527998]\n",
      " [-8.34839584  2.28134153]\n",
      " [ 6.90559048 -1.56509752]\n",
      " [ 0.22639193 -2.63028587]\n",
      " [ 1.2544827   0.89728088]\n",
      " [-0.95715283 -0.33961337]\n",
      " [ 0.45328622 -0.32166002]\n",
      " [ 2.69716132 -1.17203741]\n",
      " [-4.75679874 -1.42085887]\n",
      " [-1.43545082  0.14485102]\n",
      " [ 4.13846676 -0.70790814]\n",
      " [-1.33385856  4.73660113]\n",
      " [ 1.84842768 -0.06303248]\n",
      " [ 0.64410151  0.64338177]]\n",
      "w of serial admm\n",
      "[[ 0.39584625  0.43334486]\n",
      " [ 0.15965433  0.33857284]\n",
      " [ 1.40117967  1.00377232]\n",
      " [-1.515373   -0.37527998]\n",
      " [-8.34839584  2.28134153]\n",
      " [ 6.90559048 -1.56509752]\n",
      " [ 0.22639193 -2.63028587]\n",
      " [ 1.2544827   0.89728088]\n",
      " [-0.95715283 -0.33961337]\n",
      " [ 0.45328622 -0.32166002]\n",
      " [ 2.69716132 -1.17203741]\n",
      " [-4.75679874 -1.42085887]\n",
      " [-1.43545082  0.14485102]\n",
      " [ 4.13846676 -0.70790814]\n",
      " [-1.33385856  4.73660113]\n",
      " [ 1.84842768 -0.06303248]\n",
      " [ 0.64410151  0.64338177]]\n"
     ]
    }
   ],
   "source": [
    "print('w of distributed admm')\n",
    "print w_dist\n",
    "print('w of serial admm')\n",
    "print history['x'][-1]"
   ]
  },
  {
   "cell_type": "markdown",
   "metadata": {},
   "source": [
    "The two methods give the same result, but the parallel admm takes mcuh longer time: 146.6s compared to 3.7s."
   ]
  },
  {
   "cell_type": "code",
   "execution_count": 163,
   "metadata": {
    "collapsed": false,
    "scrolled": true
   },
   "outputs": [
    {
     "name": "stdout",
     "output_type": "stream",
     "text": [
      "the inverse function got, time used ... 31.2591979504\n",
      "calculate b1... time used is 37.4788770676\n",
      "time for update object_function, errors used is 42.2576470375\n",
      "run time = 0 \n",
      "\t the value of object function is, 1822442.59745 \n",
      "\t regression |Mw - z| is [ 682.21943423  733.50126617]\n",
      "calculate b1... time used is 37.1367251873\n",
      "time for update object_function, errors used is 42.3866519928\n",
      "run time = 1 \n",
      "\t the value of object function is, 604020.723368 \n",
      "\t regression |Mw - z| is [ 308.12520856  382.81333496]\n",
      "calculate b1... time used is 35.8596429825\n",
      "time for update object_function, errors used is 40.5201768875\n",
      "run time = 2 \n",
      "\t the value of object function is, 475046.148643 \n",
      "\t regression |Mw - z| is [ 228.55712288  218.25432054]\n",
      "calculate b1... time used is 36.0260519981\n",
      "time for update object_function, errors used is 41.3851728439\n",
      "run time = 3 \n",
      "\t the value of object function is, 453625.297473 \n",
      "\t regression |Mw - z| is [ 210.9600512   146.31134855]\n",
      "calculate b1... time used is 35.8255741596\n",
      "time for update object_function, errors used is 41.1233460903\n",
      "run time = 4 \n",
      "\t the value of object function is, 446541.02096 \n",
      "\t regression |Mw - z| is [ 108.87907523  103.03265228]\n",
      "calculate b1... time used is 35.9155671597\n",
      "time for update object_function, errors used is 40.382488966\n",
      "run time = 5 \n",
      "\t the value of object function is, 444104.827465 \n",
      "\t regression |Mw - z| is [ 72.10173693  76.07344652]\n",
      "calculate b1... time used is 37.4689950943\n",
      "time for update object_function, errors used is 41.371532917\n",
      "run time = 6 \n",
      "\t the value of object function is, 441873.097643 \n",
      "\t regression |Mw - z| is [ 56.14907477  51.21379198]\n",
      "calculate b1... time used is 35.8179569244\n",
      "time for update object_function, errors used is 40.3884539604\n",
      "run time = 7 \n",
      "\t the value of object function is, 438712.203357 \n",
      "\t regression |Mw - z| is [ 44.81518653  34.64442344]\n",
      "calculate b1... time used is 35.8336160183\n",
      "time for update object_function, errors used is 40.8799710274\n",
      "run time = 8 \n",
      "\t the value of object function is, 435419.548734 \n",
      "\t regression |Mw - z| is [ 35.81753186  25.3167715 ]\n",
      "calculate b1... time used is 38.217525959\n",
      "time for update object_function, errors used is 40.4103050232\n",
      "run time = 9 \n",
      "\t the value of object function is, 432858.258923 \n",
      "\t regression |Mw - z| is [ 30.21998237  20.19788993]\n",
      "calculate b1... time used is 36.0225989819\n",
      "time for update object_function, errors used is 40.6506309509\n",
      "run time = 10 \n",
      "\t the value of object function is, 431123.335948 \n",
      "\t regression |Mw - z| is [ 27.38112556  17.77014804]\n",
      "calculate b1... time used is 35.9747018814\n",
      "time for update object_function, errors used is 40.422894001\n",
      "run time = 11 \n",
      "\t the value of object function is, 429940.934456 \n",
      "\t regression |Mw - z| is [ 25.54628128  17.18621358]\n",
      "calculate b1... time used is 36.6513741016\n",
      "time for update object_function, errors used is 42.4225440025\n",
      "run time = 12 \n",
      "\t the value of object function is, 429086.876533 \n",
      "\t regression |Mw - z| is [ 23.79079822  17.73279238]\n",
      "calculate b1... time used is 38.3252379894\n",
      "time for update object_function, errors used is 40.8647589684\n",
      "run time = 13 \n",
      "\t the value of object function is, 428435.004437 \n",
      "\t regression |Mw - z| is [ 21.92020638  18.71020961]\n",
      "calculate b1... time used is 36.0895349979\n",
      "time for update object_function, errors used is 40.6337769032\n",
      "run time = 14 \n",
      "\t the value of object function is, 427912.0813 \n",
      "\t regression |Mw - z| is [ 20.21839592  19.48863937]\n",
      "calculate b1... time used is 37.2162780762\n",
      "time for update object_function, errors used is 40.4934101105\n",
      "run time = 15 \n",
      "\t the value of object function is, 427470.445693 \n",
      "\t regression |Mw - z| is [ 18.89149579  19.62031396]\n",
      "calculate b1... time used is 35.9839580059\n",
      "time for update object_function, errors used is 40.5570619106\n",
      "run time = 16 \n",
      "\t the value of object function is, 427093.974372 \n",
      "\t regression |Mw - z| is [ 18.19425406  18.90735013]\n",
      "calculate b1... time used is 36.05843997\n",
      "time for update object_function, errors used is 40.5375900269\n",
      "run time = 17 \n",
      "\t the value of object function is, 426805.158001 \n",
      "\t regression |Mw - z| is [ 18.09106515  17.63051313]\n",
      "calculate b1... time used is 35.9780209064\n",
      "time for update object_function, errors used is 40.5565309525\n",
      "run time = 18 \n",
      "\t the value of object function is, 426634.266506 \n",
      "\t regression |Mw - z| is [ 18.36080342  16.14731301]\n",
      "calculate b1... time used is 36.0500249863\n",
      "time for update object_function, errors used is 40.7723670006\n",
      "run time = 19 \n",
      "\t the value of object function is, 426589.560482 \n",
      "\t regression |Mw - z| is [ 18.79241543  14.78611069]\n",
      "runtime: 1584.046539 s\n"
     ]
    }
   ],
   "source": [
    "t1 = time.time()\n",
    "#objs_dist, errrs, \n",
    "objs_dist_full, errs_dist_full, w_dist_full, train_data_dist_full = admm_dist(train_data_full, 2, \n",
    "                                                                              func_f, derivative_f, \n",
    "                                                                              func_pinball, prox_pinball, \n",
    "                                                                              alpha=1, gamma=1, tao=0.9, \n",
    "                                                                              run_max=20, verbose=1)        \n",
    "t2 = time.time()\n",
    "t_dist = t2 - t1\n",
    "print('runtime: %f s'%t_dist)"
   ]
  },
  {
   "cell_type": "code",
   "execution_count": 167,
   "metadata": {
    "collapsed": false
   },
   "outputs": [
    {
     "data": {
      "text/plain": [
       "<matplotlib.text.Text at 0x7f089a04fd50>"
      ]
     },
     "execution_count": 167,
     "metadata": {},
     "output_type": "execute_result"
    },
    {
     "data": {
      "image/png": "[encoded data removed]",
      "text/plain": [
       "<matplotlib.figure.Figure at 0x7f089a0afad0>"
      ]
     },
     "metadata": {},
     "output_type": "display_data"
    }
   ],
   "source": [
    "plt.figure(figsize=(15,5))\n",
    "plt.subplot(121)\n",
    "plt.plot(np.sum(errs_dist_full,axis=1))\n",
    "plt.xlabel('iteration')\n",
    "plt.ylabel('|Mw-z|')\n",
    "plt.title('distributed admm')\n",
    "plt.subplot(122)\n",
    "plt.plot(objs_dist_full)\n",
    "plt.xlabel('iteration')\n",
    "plt.ylabel('objective')\n",
    "plt.title('distributed admm')"
   ]
  },
  {
   "cell_type": "code",
   "execution_count": 179,
   "metadata": {
    "collapsed": false
   },
   "outputs": [
    {
     "name": "stdout",
     "output_type": "stream",
     "text": [
      "objective/#sample: reduced data: 0.233998, full data: 0.202780\n"
     ]
    }
   ],
   "source": [
    "err_s = objs_dist[-1] / train_data.count()\n",
    "err_d = objs_dist_full[-1] / train_data_full.count()\n",
    "print \"objective/#sample: reduced data: %f, full data: %f\"%(err_s,err_d)"
   ]
  },
  {
   "cell_type": "markdown",
   "metadata": {},
   "source": [
    "The result of full data gives a larger total error since it has larger sample number, but has a smaller relative error."
   ]
  },
  {
   "cell_type": "code",
   "execution_count": null,
   "metadata": {
    "collapsed": true
   },
   "outputs": [],
   "source": []
  }
 ],
 "metadata": {
  "kernelspec": {
   "display_name": "Python 3",
   "language": "python",
   "name": "python3"
  },
  "language_info": {
   "codemirror_mode": {
    "name": "ipython",
    "version": 3
   },
   "file_extension": ".py",
   "mimetype": "text/x-python",
   "name": "python",
   "nbconvert_exporter": "python",
   "pygments_lexer": "ipython3",
   "version": "3.6.0"
  }
 },
 "nbformat": 4,
 "nbformat_minor": 1
}
